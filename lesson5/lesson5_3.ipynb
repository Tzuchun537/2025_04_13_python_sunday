{
 "cells": [
  {
   "cell_type": "code",
   "execution_count": 2,
   "id": "d55e0e23",
   "metadata": {},
   "outputs": [
    {
     "name": "stdout",
     "output_type": "stream",
     "text": [
      "身高為165cm\n",
      "體重為60kg\n",
      "bmi為22\n",
      "正常\n"
     ]
    }
   ],
   "source": [
    "hight = int(input('請輸入身高cm'))\n",
    "weight = int(input('請輸入體重kg'))\n",
    "BMI =  round(weight / (hight /100)**2)\n",
    "print(f'身高為{hight}cm')\n",
    "print(f'體重為{weight}kg')\n",
    "print(f'bmi為{BMI}')\n",
    "if BMI < 18.5:\n",
    "    print(f'體重過輕')\n",
    "elif 18.5 <= BMI <24:\n",
    "    print(f'正常')\n",
    "elif 24 <= BMI <27:\n",
    "    print(f'過重')\n",
    "elif 27 <= BMI <30:\n",
    "    print(f'輕度肥胖')\n",
    "elif 30 <= BMI <35:\n",
    "    print(f'中度肥胖')\n",
    "else:\n",
    "    print(f'重度肥胖')"
   ]
  }
 ],
 "metadata": {
  "kernelspec": {
   "display_name": "base",
   "language": "python",
   "name": "python3"
  },
  "language_info": {
   "codemirror_mode": {
    "name": "ipython",
    "version": 3
   },
   "file_extension": ".py",
   "mimetype": "text/x-python",
   "name": "python",
   "nbconvert_exporter": "python",
   "pygments_lexer": "ipython3",
   "version": "3.12.7"
  }
 },
 "nbformat": 4,
 "nbformat_minor": 5
}
