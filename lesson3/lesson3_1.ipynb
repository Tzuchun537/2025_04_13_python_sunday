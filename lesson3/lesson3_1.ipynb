{
 "cells": [
  {
   "cell_type": "markdown",
   "id": "936f0036",
   "metadata": {},
   "source": [
    "## 這是第3節上課內容"
   ]
  },
  {
   "cell_type": "code",
   "execution_count": null,
   "id": "ce2a77a7",
   "metadata": {},
   "outputs": [],
   "source": [
    "width = 345.8\n",
    "height = 245.896\n",
    "#type(width)\n",
    "#type(height)\n",
    "area = width * height\n",
    "#type(area)\n",
    "print(f\"矩形的寬:{width} 高:{height} 面積是{round(area,ndigits=2)}\")"
   ]
  },
  {
   "cell_type": "markdown",
   "id": "4714a236",
   "metadata": {},
   "source": [
    "### 重點`input()`"
   ]
  },
  {
   "cell_type": "code",
   "execution_count": 1,
   "id": "44222218",
   "metadata": {},
   "outputs": [
    {
     "data": {
      "text/plain": [
       "float"
      ]
     },
     "execution_count": 1,
     "metadata": {},
     "output_type": "execute_result"
    }
   ],
   "source": [
    "width_input = input(\"請輸入矩形的寬:\")\n",
    "type(width_input)\n",
    "width_value = float(width_input)\n",
    "type(width_value)"
   ]
  },
  {
   "cell_type": "code",
   "execution_count": 3,
   "id": "aa3d290d",
   "metadata": {},
   "outputs": [
    {
     "name": "stdout",
     "output_type": "stream",
     "text": [
      "矩形的寬:368.12 高:7598.24 面積是2797064.11\n"
     ]
    }
   ],
   "source": [
    "width = float(input(\"請輸入矩形的寬:\"))\n",
    "height = float(input(\"請輸入矩形的高:\"))\n",
    "area = width * height\n",
    "print(f\"矩形的寬:{width} 高:{height} 面積是{round(area,ndigits=2)}\")"
   ]
  }
 ],
 "metadata": {
  "kernelspec": {
   "display_name": "base",
   "language": "python",
   "name": "python3"
  },
  "language_info": {
   "codemirror_mode": {
    "name": "ipython",
    "version": 3
   },
   "file_extension": ".py",
   "mimetype": "text/x-python",
   "name": "python",
   "nbconvert_exporter": "python",
   "pygments_lexer": "ipython3",
   "version": "3.12.7"
  }
 },
 "nbformat": 4,
 "nbformat_minor": 5
}
