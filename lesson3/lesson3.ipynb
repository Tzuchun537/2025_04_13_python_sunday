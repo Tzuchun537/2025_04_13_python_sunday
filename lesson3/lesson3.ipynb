{
 "cells": [
  {
   "cell_type": "markdown",
   "id": "936f0036",
   "metadata": {},
   "source": [
    "## 這是第3節上課內容"
   ]
  },
  {
   "cell_type": "code",
   "execution_count": null,
   "id": "ce2a77a7",
   "metadata": {},
   "outputs": [],
   "source": [
    "width = 345.8\n",
    "height = 245.896\n",
    "#type(width)\n",
    "#type(height)\n",
    "area = width * height\n",
    "#type(area)\n",
    "print(f\"矩形的寬:{width} 高:{height} 面積是{round(area,ndigits=2)}\")"
   ]
  }
 ],
 "metadata": {
  "kernelspec": {
   "display_name": "base",
   "language": "python",
   "name": "python3"
  },
  "language_info": {
   "name": "python",
   "version": "3.12.7"
  }
 },
 "nbformat": 4,
 "nbformat_minor": 5
}
