{
 "cells": [
  {
   "cell_type": "markdown",
   "id": "b7c6757e",
   "metadata": {},
   "source": [
    "### python的資料結構"
   ]
  },
  {
   "cell_type": "code",
   "execution_count": 2,
   "id": "03fa0274",
   "metadata": {},
   "outputs": [],
   "source": [
    "name:str = \"徐國堂\"\n",
    "chinese:int = 96\n",
    "english:int = 85\n",
    "math:int = 95"
   ]
  },
  {
   "cell_type": "markdown",
   "id": "2099f619",
   "metadata": {},
   "source": [
    "### 一組有關係的資料(dictionary)"
   ]
  },
  {
   "cell_type": "code",
   "execution_count": 5,
   "id": "6ff1c5a6",
   "metadata": {},
   "outputs": [
    {
     "data": {
      "text/plain": [
       "{'name': '徐國堂', 'chinese': 96, 'english': 85, 'math': 95}"
      ]
     },
     "execution_count": 5,
     "metadata": {},
     "output_type": "execute_result"
    }
   ],
   "source": [
    "student:dict = {'name':\"徐國堂\",\n",
    "                'chinese':96,\n",
    "                'english': 85,\n",
    "                'math': 95}\n",
    "\n",
    "student\n"
   ]
  },
  {
   "cell_type": "code",
   "execution_count": 8,
   "id": "a13a803f",
   "metadata": {},
   "outputs": [
    {
     "data": {
      "text/plain": [
       "96"
      ]
     },
     "execution_count": 8,
     "metadata": {},
     "output_type": "execute_result"
    }
   ],
   "source": [
    "#取出值\n",
    "student['name']\n",
    "student['chinese']\n"
   ]
  },
  {
   "cell_type": "code",
   "execution_count": 9,
   "id": "80dd1e52",
   "metadata": {},
   "outputs": [
    {
     "data": {
      "text/plain": [
       "{'name': '徐國堂', 'chinese': 96, 'english': 85, 'math': 95, 'history': 84}"
      ]
     },
     "execution_count": 9,
     "metadata": {},
     "output_type": "execute_result"
    }
   ],
   "source": [
    "#新增key\n",
    "student['history'] = 84\n",
    "student"
   ]
  }
 ],
 "metadata": {
  "kernelspec": {
   "display_name": "base",
   "language": "python",
   "name": "python3"
  },
  "language_info": {
   "codemirror_mode": {
    "name": "ipython",
    "version": 3
   },
   "file_extension": ".py",
   "mimetype": "text/x-python",
   "name": "python",
   "nbconvert_exporter": "python",
   "pygments_lexer": "ipython3",
   "version": "3.12.7"
  }
 },
 "nbformat": 4,
 "nbformat_minor": 5
}
