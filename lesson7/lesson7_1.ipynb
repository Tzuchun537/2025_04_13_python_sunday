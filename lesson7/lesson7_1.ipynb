{
 "cells": [
  {
   "cell_type": "code",
   "execution_count": null,
   "id": "c2c41871",
   "metadata": {},
   "outputs": [],
   "source": [
    "def main():\n",
    "    height:int = int(input(\"請輸入身高公分\"))\n",
    "    weight:int = int(input(\"請輸入體重公斤\"))\n",
    "    BMI = round(weight/pow(height/100,2),1)\n",
    "\n",
    "    print(f\"身高:{height}\"\"cm\")\n",
    "    print(f\"體重:{weight}\"\"kg\")\n",
    "    print(f\"BMI:{BMI}\")\n",
    "\n",
    "    if BMI < 18.5:\n",
    "        status = \"體重過輕\"\n",
    "    elif BMI < 24:\n",
    "        status = \"正常\"\n",
    "    elif BMI < 27:\n",
    "        status = \"過重\"\n",
    "    elif BMI < 30:\n",
    "        status = \"輕度肥胖\"\n",
    "    elif BMI <35:\n",
    "        status = \"中度肥胖\"\n",
    "    else:\n",
    "        status = \"重度肥胖\"\n",
    "    print(f\"狀態:{status}\")\n",
    "\n",
    "if __name__ == '__main__':\n",
    "    main()"
   ]
  }
 ],
 "metadata": {
  "kernelspec": {
   "display_name": "base",
   "language": "python",
   "name": "python3"
  },
  "language_info": {
   "name": "python",
   "version": "3.12.7"
  }
 },
 "nbformat": 4,
 "nbformat_minor": 5
}
