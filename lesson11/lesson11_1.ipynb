{
 "cells": [
  {
   "cell_type": "code",
   "execution_count": null,
   "id": "a803e16a",
   "metadata": {},
   "outputs": [],
   "source": [
    "#1\n",
    "import csv\n",
    "\n",
    "file_name:str = '練習/aqx_p_488.csv'    #相對路徑\n",
    "with open(file_name, newline='',encoding='utf-8') as csvfile:\n",
    "    reader = csv.DictReader(csvfile)        #使用DicReader 讀取成字典格式\n",
    "    sites = list(reader)    \n",
    "\n",
    "sites"
   ]
  },
  {
   "cell_type": "code",
   "execution_count": null,
   "id": "3a50ce55",
   "metadata": {},
   "outputs": [],
   "source": [
    "#2\n",
    "import csv\n",
    "from pprint import pprint           #from module import function\n",
    "file_name:str = '練習/aqx_p_488.csv'\n",
    "with open(file_name, newline='',encoding='utf-8') as csvfile:\n",
    "    reader = csv.DictReader(csvfile)        #使用DicReader 讀取成字典格式\n",
    "    sites = list(reader)    \n",
    "\n",
    "pprint(sites)"
   ]
  },
  {
   "cell_type": "code",
   "execution_count": 11,
   "id": "876f5671",
   "metadata": {},
   "outputs": [
    {
     "name": "stdout",
     "output_type": "stream",
     "text": [
      "pip 24.2 from /opt/conda/lib/python3.12/site-packages/pip (python 3.12)\n",
      "Note: you may need to restart the kernel to use updated packages.\n"
     ]
    }
   ],
   "source": [
    "%pip --version"
   ]
  }
 ],
 "metadata": {
  "kernelspec": {
   "display_name": "myenv",
   "language": "python",
   "name": "python3"
  },
  "language_info": {
   "codemirror_mode": {
    "name": "ipython",
    "version": 3
   },
   "file_extension": ".py",
   "mimetype": "text/x-python",
   "name": "python",
   "nbconvert_exporter": "python",
   "pygments_lexer": "ipython3",
   "version": "3.10.16"
  }
 },
 "nbformat": 4,
 "nbformat_minor": 5
}
