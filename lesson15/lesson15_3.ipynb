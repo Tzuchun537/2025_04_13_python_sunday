{
 "cells": [
  {
   "cell_type": "markdown",
   "id": "857a29e9",
   "metadata": {},
   "source": [
    "### numpy的reshape()\n",
    "https://www.perplexity.ai/search/8fe65bd5-dbd8-45b1-8f50-8351f5dcbd9d"
   ]
  },
  {
   "cell_type": "code",
   "execution_count": 6,
   "id": "b8f2205d",
   "metadata": {},
   "outputs": [
    {
     "data": {
      "text/plain": [
       "(12,)"
      ]
     },
     "execution_count": 6,
     "metadata": {},
     "output_type": "execute_result"
    }
   ],
   "source": [
    "import numpy as np\n",
    "\n",
    "array = np.arange(12)\n",
    "array.shape"
   ]
  },
  {
   "cell_type": "code",
   "execution_count": 17,
   "id": "c8ee069d",
   "metadata": {},
   "outputs": [
    {
     "name": "stdout",
     "output_type": "stream",
     "text": [
      "[[ 0  1  2  3]\n",
      " [ 4  5  6  7]\n",
      " [ 8  9 10 11]]\n"
     ]
    },
    {
     "data": {
      "text/plain": [
       "np.int64(6)"
      ]
     },
     "execution_count": 17,
     "metadata": {},
     "output_type": "execute_result"
    }
   ],
   "source": [
    "array1 = array.reshape((3, 4))\n",
    "array1.shape\n",
    "print(array1)\n",
    "array1[1,2]\n"
   ]
  },
  {
   "cell_type": "code",
   "execution_count": 16,
   "id": "f6c8b1cd",
   "metadata": {},
   "outputs": [
    {
     "name": "stdout",
     "output_type": "stream",
     "text": [
      "[[ 0  1  2  3  4  5]\n",
      " [ 6  7  8  9 10 11]]\n"
     ]
    },
    {
     "data": {
      "text/plain": [
       "np.int64(6)"
      ]
     },
     "execution_count": 16,
     "metadata": {},
     "output_type": "execute_result"
    }
   ],
   "source": [
    "array2 = array1.reshape((2, 6))\n",
    "print(array2)\n",
    "array2[1,0]"
   ]
  },
  {
   "cell_type": "code",
   "execution_count": 19,
   "id": "05981771",
   "metadata": {},
   "outputs": [
    {
     "name": "stdout",
     "output_type": "stream",
     "text": [
      "[[[[[ 0]\n",
      "    [ 1]\n",
      "    [ 2]\n",
      "    [ 3]\n",
      "    [ 4]\n",
      "    [ 5]]]\n",
      "\n",
      "\n",
      "  [[[ 6]\n",
      "    [ 7]\n",
      "    [ 8]\n",
      "    [ 9]\n",
      "    [10]\n",
      "    [11]]]]]\n"
     ]
    },
    {
     "data": {
      "text/plain": [
       "np.int64(6)"
      ]
     },
     "execution_count": 19,
     "metadata": {},
     "output_type": "execute_result"
    }
   ],
   "source": [
    "array3 = array2.reshape((1, 2, 1, 6, 1))\n",
    "print(array3)\n",
    "array3[0,1,0,0,0]"
   ]
  }
 ],
 "metadata": {
  "kernelspec": {
   "display_name": "myenv",
   "language": "python",
   "name": "python3"
  },
  "language_info": {
   "codemirror_mode": {
    "name": "ipython",
    "version": 3
   },
   "file_extension": ".py",
   "mimetype": "text/x-python",
   "name": "python",
   "nbconvert_exporter": "python",
   "pygments_lexer": "ipython3",
   "version": "3.10.16"
  }
 },
 "nbformat": 4,
 "nbformat_minor": 5
}
