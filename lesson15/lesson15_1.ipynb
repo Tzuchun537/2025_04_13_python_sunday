{
 "cells": [
  {
   "cell_type": "markdown",
   "id": "76be2a10",
   "metadata": {},
   "source": [
    "    https://www.perplexity.ai/search/0638400d-59de-4d83-8e38-0cb807daf590"
   ]
  },
  {
   "cell_type": "code",
   "execution_count": null,
   "id": "84dc79e3",
   "metadata": {},
   "outputs": [],
   "source": [
    "import numpy as np\n",
    "from numpy import ndarray\n",
    "\n",
    "my_array:ndarray = np.arange(100000)\n",
    "my_list = list(range(1000000))\n"
   ]
  },
  {
   "cell_type": "code",
   "execution_count": null,
   "id": "0bb571f1",
   "metadata": {},
   "outputs": [],
   "source": [
    "%time\n",
    "\n",
    "for _ in range(10):\n",
    "    #lsit的comprehension, list綜表達式\n",
    "    my_lists = [x*2 for x in my_list]\n",
    "    "
   ]
  },
  {
   "cell_type": "code",
   "execution_count": null,
   "id": "19026276",
   "metadata": {},
   "outputs": [],
   "source": [
    "%time for _ in range(10): my_array2 = my_array *2"
   ]
  },
  {
   "cell_type": "code",
   "execution_count": null,
   "id": "a495828b",
   "metadata": {},
   "outputs": [],
   "source": [
    "#tuple,1個元素的表示法\n",
    "(4,5)\n",
    "type((4, ))\n"
   ]
  },
  {
   "cell_type": "code",
   "execution_count": null,
   "id": "1529e2e9",
   "metadata": {},
   "outputs": [],
   "source": [
    "np.array(range(4)).shape\n",
    "\n"
   ]
  },
  {
   "cell_type": "markdown",
   "id": "e1cb8f7b",
   "metadata": {},
   "source": [
    "### 50個學生,每個學生有5個分數,每個分數50~100"
   ]
  },
  {
   "cell_type": "code",
   "execution_count": null,
   "id": "fbbbfb70",
   "metadata": {},
   "outputs": [],
   "source": [
    "#1\n",
    "scores = np.random.randint(50, 101, (50,5))\n",
    "scores"
   ]
  },
  {
   "cell_type": "code",
   "execution_count": null,
   "id": "75a2a27d",
   "metadata": {},
   "outputs": [],
   "source": [
    "#2\n",
    "np.random.seed(42)\n",
    "scores = np.random.randint(50, 101, (50,5))\n",
    "scores"
   ]
  },
  {
   "cell_type": "code",
   "execution_count": null,
   "id": "1341eae4",
   "metadata": {},
   "outputs": [],
   "source": [
    "#ndarry常用的實體屬性\n",
    "scores.ndim\n",
    "scores.shape\n",
    "scores.size\n",
    "scores.dtype"
   ]
  },
  {
   "cell_type": "markdown",
   "id": "9acba123",
   "metadata": {},
   "source": [
    "### 基本索引和分割\n",
    "- ndarray[index]\n",
    "- ndarray[Start:end:Stop]"
   ]
  },
  {
   "cell_type": "code",
   "execution_count": 23,
   "id": "5668dd32",
   "metadata": {},
   "outputs": [
    {
     "data": {
      "text/plain": [
       "np.int32(57)"
      ]
     },
     "execution_count": 23,
     "metadata": {},
     "output_type": "execute_result"
    }
   ],
   "source": [
    "#2維\n",
    "scores[0][4] #類似list的操作\n",
    "scores[0, 4] #ndarrya的slice的操作法"
   ]
  }
 ],
 "metadata": {
  "kernelspec": {
   "display_name": "myenv",
   "language": "python",
   "name": "python3"
  },
  "language_info": {
   "codemirror_mode": {
    "name": "ipython",
    "version": 3
   },
   "file_extension": ".py",
   "mimetype": "text/x-python",
   "name": "python",
   "nbconvert_exporter": "python",
   "pygments_lexer": "ipython3",
   "version": "3.10.16"
  }
 },
 "nbformat": 4,
 "nbformat_minor": 5
}
