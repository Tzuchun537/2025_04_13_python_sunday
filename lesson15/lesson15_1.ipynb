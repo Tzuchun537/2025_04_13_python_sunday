{
 "cells": [
  {
   "cell_type": "markdown",
   "id": "76be2a10",
   "metadata": {},
   "source": [
    "    https://www.perplexity.ai/search/0638400d-59de-4d83-8e38-0cb807daf590"
   ]
  },
  {
   "cell_type": "code",
   "execution_count": null,
   "id": "84dc79e3",
   "metadata": {},
   "outputs": [],
   "source": [
    "import numpy as np\n",
    "from numpy import ndarray\n",
    "\n",
    "my_array:ndarray = np.arange(100000)\n",
    "my_list = list(range(1000000))\n",
    "\n",
    "my_list\n"
   ]
  },
  {
   "cell_type": "code",
   "execution_count": null,
   "id": "0bb571f1",
   "metadata": {},
   "outputs": [],
   "source": [
    "%time                                               #a魔術運算值 只有 ipynb檔能用\n",
    "\n",
    "for _ in range(10):\n",
    "    #lsit的comprehension, list綜合表達式\n",
    "    my_lists = [x*2 for x in my_list]\n",
    "    "
   ]
  },
  {
   "cell_type": "code",
   "execution_count": null,
   "id": "19026276",
   "metadata": {},
   "outputs": [],
   "source": [
    "%time for _ in range(10): my_array2 = my_array *2"
   ]
  },
  {
   "cell_type": "code",
   "execution_count": null,
   "id": "a495828b",
   "metadata": {},
   "outputs": [],
   "source": [
    "#tuple,1個元素的表示法\n",
    "(4,5)\n",
    "type((4, ))\n"
   ]
  },
  {
   "cell_type": "code",
   "execution_count": null,
   "id": "1529e2e9",
   "metadata": {},
   "outputs": [],
   "source": [
    "np.array(range(4)).shape\n",
    "\n"
   ]
  },
  {
   "cell_type": "markdown",
   "id": "e1cb8f7b",
   "metadata": {},
   "source": [
    "### 50個學生,每個學生有5個分數,每個分數50~100"
   ]
  },
  {
   "cell_type": "code",
   "execution_count": null,
   "id": "fbbbfb70",
   "metadata": {},
   "outputs": [],
   "source": [
    "#1\n",
    "scores = np.random.randint(50, 101, (50,5))             #五十分到一百分隨機取  \n",
    "scores"
   ]
  },
  {
   "cell_type": "code",
   "execution_count": 17,
   "id": "75a2a27d",
   "metadata": {},
   "outputs": [
    {
     "data": {
      "text/plain": [
       "array([[ 88,  78,  64,  92,  57],\n",
       "       [ 70,  88,  68,  72,  60],\n",
       "       [ 60,  73,  85,  89,  73],\n",
       "       [ 52,  71,  51,  73,  93],\n",
       "       [ 79,  87,  51,  70,  82],\n",
       "       [ 61,  71,  93,  74,  98],\n",
       "       [ 76,  91,  77,  65,  64],\n",
       "       [ 96, 100,  93,  52,  86],\n",
       "       [100,  56,  70,  58,  88],\n",
       "       [ 67,  53,  74,  63,  99],\n",
       "       [ 58,  75,  51,  69,  77],\n",
       "       [ 96,  56,  93,  57,  96],\n",
       "       [ 84,  63,  66,  85,  99],\n",
       "       [ 89,  53,  51,  55,  91],\n",
       "       [ 53,  78,  67,  75,  93],\n",
       "       [ 83,  59,  85,  63,  80],\n",
       "       [ 97,  64,  57,  63,  72],\n",
       "       [ 89,  70,  65,  94,  67],\n",
       "       [ 96,  73,  75,  74,  94],\n",
       "       [ 90,  78,  64,  94,  50],\n",
       "       [ 74,  56,  58,  73,  50],\n",
       "       [ 93,  57,  73,  60, 100],\n",
       "       [ 66,  57,  84,  84,  82],\n",
       "       [ 54,  91,  88,  90,  77],\n",
       "       [ 56,  58,  57,  61,  83],\n",
       "       [ 82,  97,  72,  73,  86],\n",
       "       [ 84,  93,  89,  71,  76],\n",
       "       [ 84,  50,  84,  86,  96],\n",
       "       [ 63,  52,  50,  54,  75],\n",
       "       [ 63,  88,  76,  58,  64],\n",
       "       [ 64,  75,  91,  62, 100],\n",
       "       [ 81,  88,  98,  81,  53],\n",
       "       [ 79,  86,  72,  88,  94],\n",
       "       [ 64,  92,  78,  85,  62],\n",
       "       [ 81,  56, 100,  71,  77],\n",
       "       [ 51,  91,  94,  55,  77],\n",
       "       [ 77,  93,  93,  69,  79],\n",
       "       [ 60,  77,  74,  88,  82],\n",
       "       [ 50,  76,  62,  90,  52],\n",
       "       [ 88,  55,  57,  76,  58],\n",
       "       [ 86,  82, 100,  91,  93],\n",
       "       [ 73,  64,  81,  81,  73],\n",
       "       [ 90,  98,  98,  61,  88],\n",
       "       [ 51,  52,  98,  86,  98],\n",
       "       [ 66,  98,  51,  51,  77],\n",
       "       [ 72,  86,  81,  82,  50],\n",
       "       [ 68,  51,  93,  75,  81],\n",
       "       [ 55,  81,  53,  60,  66],\n",
       "       [ 87,  73,  54,  83,  55],\n",
       "       [ 71,  60,  97,  65,  82]], dtype=int32)"
      ]
     },
     "execution_count": 17,
     "metadata": {},
     "output_type": "execute_result"
    }
   ],
   "source": [
    "#2\n",
    "np.random.seed(42)                                      #\n",
    "scores = np.random.randint(50, 101, (50,5))\n",
    "scores"
   ]
  },
  {
   "cell_type": "code",
   "execution_count": null,
   "id": "1341eae4",
   "metadata": {},
   "outputs": [],
   "source": [
    "#ndarry常用的實體屬性\n",
    "scores.ndim\n",
    "scores.shape\n",
    "scores.size\n",
    "scores.dtype"
   ]
  },
  {
   "cell_type": "markdown",
   "id": "9acba123",
   "metadata": {},
   "source": [
    "### 基本索引(index)和分割(slicing)\n",
    "- ndarray[index]\n",
    "- ndarray[Start:end:Stop]"
   ]
  },
  {
   "cell_type": "code",
   "execution_count": 19,
   "id": "5668dd32",
   "metadata": {},
   "outputs": [
    {
     "data": {
      "text/plain": [
       "np.int32(57)"
      ]
     },
     "execution_count": 19,
     "metadata": {},
     "output_type": "execute_result"
    }
   ],
   "source": [
    "#2維\n",
    "scores[0][4] #類似list的操作\n",
    "scores[0, 4] #ndarrya的slice的操作法"
   ]
  },
  {
   "cell_type": "code",
   "execution_count": null,
   "id": "1fc517d0",
   "metadata": {},
   "outputs": [
    {
     "data": {
      "text/plain": [
       "array([[88, 78, 64, 92, 57]], dtype=int32)"
      ]
     },
     "execution_count": 25,
     "metadata": {},
     "output_type": "execute_result"
    }
   ],
   "source": [
    "## 取的第1位學生的分數\n",
    "scores[0] #shape(5, )\n",
    "scores[0,:] #shape(5,0)\n",
    "scores[0:1,:] #shape(1,5)               #start:end:step     用二維表示\n"
   ]
  },
  {
   "cell_type": "code",
   "execution_count": null,
   "id": "b54dc935",
   "metadata": {},
   "outputs": [
    {
     "data": {
      "text/plain": [
       "array([[88, 78, 64, 92, 57],\n",
       "       [70, 88, 68, 72, 60]], dtype=int32)"
      ]
     },
     "execution_count": 21,
     "metadata": {},
     "output_type": "execute_result"
    }
   ],
   "source": [
    "## 取的第1,2位學生的分數\n",
    "scores[:2]                              #第一維使用slicing  \n",
    "scores[:2,:] \n",
    "scores[(0,1),:]\n"
   ]
  },
  {
   "cell_type": "code",
   "execution_count": null,
   "id": "cbdac304",
   "metadata": {},
   "outputs": [
    {
     "data": {
      "text/plain": [
       "array([[88, 78, 64, 92, 57],\n",
       "       [70, 88, 68, 72, 60],\n",
       "       [60, 73, 85, 89, 73],\n",
       "       [52, 71, 51, 73, 93],\n",
       "       [79, 87, 51, 70, 82]], dtype=int32)"
      ]
     },
     "execution_count": 29,
     "metadata": {},
     "output_type": "execute_result"
    }
   ],
   "source": [
    "## 取得第1,2,5位學生的分數\n",
    "scores[(0,1,4),:]\n",
    "# scores[0:5,:]"
   ]
  },
  {
   "cell_type": "code",
   "execution_count": null,
   "id": "3ac48ffe",
   "metadata": {},
   "outputs": [],
   "source": [
    "## 取得第1科的所有分數\n",
    "scores[:,0] #(50,)\n",
    "scores[:,0:1] #(1,50)"
   ]
  },
  {
   "cell_type": "code",
   "execution_count": null,
   "id": "842259c4",
   "metadata": {},
   "outputs": [],
   "source": [
    "## 取得第1,2科的所有分數\n",
    "scores[:,:2] #(50,2)"
   ]
  },
  {
   "cell_type": "code",
   "execution_count": null,
   "id": "e0b51a1c",
   "metadata": {},
   "outputs": [],
   "source": [
    "## 取得前30位學生的最後3科分數\n",
    "scores[:30,-3:] #(30,3)"
   ]
  },
  {
   "cell_type": "markdown",
   "id": "e9b00fc5",
   "metadata": {},
   "source": [
    "### ndarry的統計的實體方法\n",
    "- sum()\n",
    "- min()\n",
    "- max()\n",
    "- mean()"
   ]
  },
  {
   "cell_type": "code",
   "execution_count": 32,
   "id": "e9645376",
   "metadata": {},
   "outputs": [
    {
     "data": {
      "text/plain": [
       "array([3717, 3670, 3756, 3647, 3905])"
      ]
     },
     "execution_count": 32,
     "metadata": {},
     "output_type": "execute_result"
    }
   ],
   "source": [
    "# 每個科的總分\n",
    "scores.sum(axis=0)"
   ]
  },
  {
   "cell_type": "code",
   "execution_count": 33,
   "id": "36216c0d",
   "metadata": {},
   "outputs": [
    {
     "data": {
      "text/plain": [
       "array([379, 358, 380, 340, 369, 397, 373, 427, 372, 356, 330, 398, 397,\n",
       "       339, 366, 370, 353, 385, 412, 376, 311, 383, 373, 400, 315, 410,\n",
       "       413, 400, 294, 349, 392, 401, 419, 381, 385, 368, 411, 381, 330,\n",
       "       334, 452, 372, 435, 385, 343, 371, 368, 315, 352, 375])"
      ]
     },
     "execution_count": 33,
     "metadata": {},
     "output_type": "execute_result"
    }
   ],
   "source": [
    "#每個學生的總分\n",
    "scores.sum(axis=1) #ndarray實體方法\n",
    "\n",
    "np.sum(scores,axis=1) #numpy的global的function"
   ]
  },
  {
   "cell_type": "code",
   "execution_count": 34,
   "id": "4ea51f9f",
   "metadata": {},
   "outputs": [
    {
     "data": {
      "text/plain": [
       "array([75.8, 71.6, 76. , 68. , 73.8, 79.4, 74.6, 85.4, 74.4, 71.2, 66. ,\n",
       "       79.6, 79.4, 67.8, 73.2, 74. , 70.6, 77. , 82.4, 75.2, 62.2, 76.6,\n",
       "       74.6, 80. , 63. , 82. , 82.6, 80. , 58.8, 69.8])"
      ]
     },
     "execution_count": 34,
     "metadata": {},
     "output_type": "execute_result"
    }
   ],
   "source": [
    "# 前30為學生的平均\n",
    "scores[:30].mean(axis=1)"
   ]
  },
  {
   "cell_type": "code",
   "execution_count": null,
   "id": "efc53e28",
   "metadata": {},
   "outputs": [
    {
     "data": {
      "text/plain": [
       "np.int32(50)"
      ]
     },
     "execution_count": 35,
     "metadata": {},
     "output_type": "execute_result"
    }
   ],
   "source": [
    "# 第1科最高的分數和最低分數\n",
    "scores[:,0].max(axis=0)\n",
    "scores[:,0].min(axis=0)"
   ]
  }
 ],
 "metadata": {
  "kernelspec": {
   "display_name": "myenv",
   "language": "python",
   "name": "python3"
  },
  "language_info": {
   "codemirror_mode": {
    "name": "ipython",
    "version": 3
   },
   "file_extension": ".py",
   "mimetype": "text/x-python",
   "name": "python",
   "nbconvert_exporter": "python",
   "pygments_lexer": "ipython3",
   "version": "3.10.16"
  }
 },
 "nbformat": 4,
 "nbformat_minor": 5
}
