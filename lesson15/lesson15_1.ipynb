{
 "cells": [
  {
   "cell_type": "markdown",
   "id": "76be2a10",
   "metadata": {},
   "source": [
    "    https://www.perplexity.ai/search/0638400d-59de-4d83-8e38-0cb807daf590"
   ]
  },
  {
   "cell_type": "code",
   "execution_count": null,
   "id": "84dc79e3",
   "metadata": {},
   "outputs": [],
   "source": [
    "import numpy as np\n",
    "from numpy import ndarray\n",
    "\n",
    "my_array:ndarray = np.arange(100000)\n",
    "my_list = list(range(1000000))\n"
   ]
  },
  {
   "cell_type": "code",
   "execution_count": null,
   "id": "0bb571f1",
   "metadata": {},
   "outputs": [],
   "source": [
    "%time\n",
    "\n",
    "for _ in range(10):\n",
    "    #lsit的comprehension, list綜表達式\n",
    "    my_lists = [x*2 for x in my_list]\n",
    "    "
   ]
  },
  {
   "cell_type": "code",
   "execution_count": null,
   "id": "19026276",
   "metadata": {},
   "outputs": [],
   "source": [
    "%time for _ in range(10): my_array2 = my_array *2"
   ]
  },
  {
   "cell_type": "code",
   "execution_count": null,
   "id": "a495828b",
   "metadata": {},
   "outputs": [],
   "source": [
    "#tuple,1個元素的表示法\n",
    "(4,5)\n",
    "type((4, ))\n"
   ]
  },
  {
   "cell_type": "code",
   "execution_count": null,
   "id": "1529e2e9",
   "metadata": {},
   "outputs": [],
   "source": [
    "np.array(range(4)).shape\n",
    "\n"
   ]
  },
  {
   "cell_type": "markdown",
   "id": "e1cb8f7b",
   "metadata": {},
   "source": [
    "### 50個學生,每個學生有5個分數,每個分數50~100"
   ]
  },
  {
   "cell_type": "code",
   "execution_count": null,
   "id": "fbbbfb70",
   "metadata": {},
   "outputs": [],
   "source": [
    "#1\n",
    "scores = np.random.randint(50, 101, (50,5))\n",
    "scores"
   ]
  },
  {
   "cell_type": "code",
   "execution_count": null,
   "id": "75a2a27d",
   "metadata": {},
   "outputs": [],
   "source": [
    "#2\n",
    "np.random.seed(42)\n",
    "scores = np.random.randint(50, 101, (50,5))\n",
    "scores"
   ]
  },
  {
   "cell_type": "code",
   "execution_count": null,
   "id": "1341eae4",
   "metadata": {},
   "outputs": [],
   "source": [
    "#ndarry常用的實體屬性\n",
    "scores.ndim\n",
    "scores.shape\n",
    "scores.size\n",
    "scores.dtype"
   ]
  },
  {
   "cell_type": "markdown",
   "id": "9acba123",
   "metadata": {},
   "source": [
    "### 基本索引和分割\n",
    "- ndarray[index]\n",
    "- ndarray[Start:end:Stop]"
   ]
  },
  {
   "cell_type": "code",
   "execution_count": null,
   "id": "5668dd32",
   "metadata": {},
   "outputs": [],
   "source": [
    "#2維\n",
    "scores[0][4] #類似list的操作\n",
    "scores[0, 4] #ndarrya的slice的操作法"
   ]
  },
  {
   "cell_type": "code",
   "execution_count": null,
   "id": "1fc517d0",
   "metadata": {},
   "outputs": [],
   "source": [
    "## 取的第1位學生的分數\n",
    "scores[0] #shape(5, )\n",
    "scores[0,:] #shape(5,0)\n",
    "scores[0:1,:] #shape(1,5)\n"
   ]
  },
  {
   "cell_type": "code",
   "execution_count": 25,
   "id": "b54dc935",
   "metadata": {},
   "outputs": [
    {
     "data": {
      "text/plain": [
       "array([[88, 78, 64, 92, 57],\n",
       "       [70, 88, 68, 72, 60]], dtype=int32)"
      ]
     },
     "execution_count": 25,
     "metadata": {},
     "output_type": "execute_result"
    }
   ],
   "source": [
    "## 取的第1,2位學生的分數\n",
    "scores[:2] \n",
    "scores[:2,:] \n",
    "scores[(0,1),:]\n"
   ]
  },
  {
   "cell_type": "code",
   "execution_count": 26,
   "id": "cbdac304",
   "metadata": {},
   "outputs": [
    {
     "data": {
      "text/plain": [
       "array([[88, 78, 64, 92, 57],\n",
       "       [70, 88, 68, 72, 60],\n",
       "       [79, 87, 51, 70, 82]], dtype=int32)"
      ]
     },
     "execution_count": 26,
     "metadata": {},
     "output_type": "execute_result"
    }
   ],
   "source": [
    "## 取得第1,2,5位學生的分數\n",
    "scores[(0,1,4),:]"
   ]
  },
  {
   "cell_type": "code",
   "execution_count": null,
   "id": "3ac48ffe",
   "metadata": {},
   "outputs": [],
   "source": [
    "## 取得第1科的所有分數\n",
    "scores[:,0] #(50,)\n",
    "scores[:,0:1] #(1,50)"
   ]
  },
  {
   "cell_type": "code",
   "execution_count": null,
   "id": "842259c4",
   "metadata": {},
   "outputs": [],
   "source": [
    "## 取得第1,2科的所有分數\n",
    "scores[:,:2] #(50,2)"
   ]
  },
  {
   "cell_type": "code",
   "execution_count": null,
   "id": "e0b51a1c",
   "metadata": {},
   "outputs": [],
   "source": [
    "## 取得前30位學生的最後3科分數\n",
    "scores[:30,-3:] #(30,3)"
   ]
  },
  {
   "cell_type": "markdown",
   "id": "e9b00fc5",
   "metadata": {},
   "source": [
    "### ndarry的統計的實體方法\n",
    "- sum()\n",
    "- min()\n",
    "- max()\n",
    "- mean()"
   ]
  },
  {
   "cell_type": "code",
   "execution_count": 27,
   "id": "e9645376",
   "metadata": {},
   "outputs": [
    {
     "data": {
      "text/plain": [
       "array([379, 358, 380, 340, 369, 397, 373, 427, 372, 356, 330, 398, 397,\n",
       "       339, 366, 370, 353, 385, 412, 376, 311, 383, 373, 400, 315, 410,\n",
       "       413, 400, 294, 349, 392, 401, 419, 381, 385, 368, 411, 381, 330,\n",
       "       334, 452, 372, 435, 385, 343, 371, 368, 315, 352, 375])"
      ]
     },
     "execution_count": 27,
     "metadata": {},
     "output_type": "execute_result"
    }
   ],
   "source": [
    "# 每個學生的總分和平均\n",
    "scores.sum(axis=1)"
   ]
  },
  {
   "cell_type": "code",
   "execution_count": null,
   "id": "36216c0d",
   "metadata": {},
   "outputs": [],
   "source": [
    "#每個學生的總分\n",
    "scores.sum(axis=1) #ndarray實體方法\n",
    "\n",
    "np.sum(scores,axis=1) #numpy的global的function"
   ]
  },
  {
   "cell_type": "code",
   "execution_count": null,
   "id": "4ea51f9f",
   "metadata": {},
   "outputs": [],
   "source": [
    "# 前30為學生的平均\n",
    "scores[:30].mean(axis=1)"
   ]
  },
  {
   "cell_type": "code",
   "execution_count": 28,
   "id": "efc53e28",
   "metadata": {},
   "outputs": [
    {
     "data": {
      "text/plain": [
       "np.int32(50)"
      ]
     },
     "execution_count": 28,
     "metadata": {},
     "output_type": "execute_result"
    }
   ],
   "source": [
    "# 第1科最高的分數和最低分數\n",
    "scores[:,0].max(axis=0)\n",
    "scores[:,0].min(axis=0)"
   ]
  },
  {
   "cell_type": "code",
   "execution_count": null,
   "id": "e4907fda",
   "metadata": {},
   "outputs": [],
   "source": []
  }
 ],
 "metadata": {
  "kernelspec": {
   "display_name": "myenv",
   "language": "python",
   "name": "python3"
  },
  "language_info": {
   "codemirror_mode": {
    "name": "ipython",
    "version": 3
   },
   "file_extension": ".py",
   "mimetype": "text/x-python",
   "name": "python",
   "nbconvert_exporter": "python",
   "pygments_lexer": "ipython3",
   "version": "3.10.16"
  }
 },
 "nbformat": 4,
 "nbformat_minor": 5
}
