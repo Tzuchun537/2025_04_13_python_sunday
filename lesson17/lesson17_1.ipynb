{
 "cells": [
  {
   "cell_type": "markdown",
   "id": "800aad6b",
   "metadata": {},
   "source": [
    "https://www.perplexity.ai/search/8fd61408-570f-421c-9bc1-875b9f2a95df"
   ]
  },
  {
   "cell_type": "code",
   "execution_count": null,
   "id": "4110fa3b",
   "metadata": {},
   "outputs": [],
   "source": [
    "import pandas as pd\n",
    "import tools as ts\n",
    "from tools import Student\n",
    "\n",
    "print(ts.PI)\n",
    "print(ts.func1(10, 20))\n",
    "stu1 = Student(\"robert\", 89, 95, 65)\n",
    "print(stu1.name)\n",
    "print(stu1.chinese)\n",
    "print(stu1.math)\n",
    "print(stu1.english)\n"
   ]
  },
  {
   "cell_type": "code",
   "execution_count": null,
   "id": "314fdfd0",
   "metadata": {},
   "outputs": [],
   "source": [
    "import pandas as pd                         #pandas 是一個module \n",
    "from pandas import DataFrame\n",
    "\n",
    "df:DataFrame = pd.read_csv(\"各鄉鎮市區人口密度.csv\")            #type 的 hint\n",
    "type(df)\n",
    "df.values\n",
    "df\n"
   ]
  },
  {
   "cell_type": "code",
   "execution_count": null,
   "id": "57aef1c1",
   "metadata": {},
   "outputs": [],
   "source": [
    "df.info()      #實體方法要有() 號"
   ]
  },
  {
   "cell_type": "code",
   "execution_count": null,
   "id": "3113cb0f",
   "metadata": {},
   "outputs": [],
   "source": [
    "##選取欄\n",
    "df['site_id']"
   ]
  },
  {
   "cell_type": "code",
   "execution_count": null,
   "id": "461f1327",
   "metadata": {},
   "outputs": [],
   "source": [
    "## 選取列\n",
    "df.iloc[:5,:3]"
   ]
  },
  {
   "cell_type": "code",
   "execution_count": null,
   "id": "b5ddf3fa",
   "metadata": {},
   "outputs": [],
   "source": [
    "## 透過值的選取(mask)\n",
    "masked = df['site_id'] == '新北市中和區'\n",
    "df[masked]"
   ]
  },
  {
   "cell_type": "code",
   "execution_count": null,
   "id": "c9b2a772",
   "metadata": {},
   "outputs": [],
   "source": [
    "## 透過query的選取\n",
    "df.query('site_id==\"新北市中和區\"')"
   ]
  },
  {
   "cell_type": "code",
   "execution_count": null,
   "id": "92d79ae1",
   "metadata": {},
   "outputs": [],
   "source": [
    "df"
   ]
  }
 ],
 "metadata": {
  "kernelspec": {
   "display_name": "myenv",
   "language": "python",
   "name": "python3"
  },
  "language_info": {
   "codemirror_mode": {
    "name": "ipython",
    "version": 3
   },
   "file_extension": ".py",
   "mimetype": "text/x-python",
   "name": "python",
   "nbconvert_exporter": "python",
   "pygments_lexer": "ipython3",
   "version": "3.10.16"
  }
 },
 "nbformat": 4,
 "nbformat_minor": 5
}
