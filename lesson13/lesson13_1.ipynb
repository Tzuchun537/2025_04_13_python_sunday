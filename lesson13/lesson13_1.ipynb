{
 "cells": [
  {
   "cell_type": "code",
   "execution_count": null,
   "id": "d208c7bf",
   "metadata": {},
   "outputs": [],
   "source": [
    "#標準寫法\n",
    "import matplotlib.pyplot as plt\n",
    "\n",
    "# 1.製作figure\n",
    "fig = plt.figure()\n",
    "\n",
    "# 2.在1.的figure上製作一個axes\n",
    "ax_1 = fig.add_subplot(1, 1, 1)\n",
    "\n",
    "# 3.將圖的數據儲存在axes中\n",
    "X = [0, 1, 2]\n",
    "Y = [3, 4, 5]\n",
    "ax_1.plot(X, Y)\n",
    "\n",
    "# 4.顯示圖\n",
    "plt.show()"
   ]
  },
  {
   "cell_type": "code",
   "execution_count": null,
   "id": "b3fa1b65",
   "metadata": {},
   "outputs": [],
   "source": [
    "#1\n",
    "import matplotlib.pyplot as plt\n",
    "\n",
    "figure = plt.figure()                   #會傳出figure 的實體 --->建立畫布\n",
    "axes = figure.add_subplot(1,1,1)        #傳出一個圖表，接收\n",
    "X = [0, 2, 5]                           #建立x ,y的座標點\n",
    "Y = [3, 4, 5]\n",
    "axes.plot(X,Y)                          #要求圖表\n",
    "plt.show()"
   ]
  },
  {
   "cell_type": "code",
   "execution_count": null,
   "id": "c8603b06",
   "metadata": {},
   "outputs": [],
   "source": [
    "#2\n",
    "import matplotlib.pyplot as plt\n",
    "\n",
    "figure = plt.figure()                   #會傳出figure 的實體 --->建立畫布\n",
    "axes = figure.add_subplot(1,1,1)        #傳出一個圖表，接收\n",
    "X = [0, 3, 9]                              #建立x ,y的座標點\n",
    "Y = [3, 4, 5]\n",
    "axes.plot(X,Y,color='green',marker='o',linestyle='dashed',linewidth=2,markersize=12)        #要求圖表and設定顏色,點形狀,線形狀,線寬,點寬\n",
    "plt.show()"
   ]
  },
  {
   "cell_type": "code",
   "execution_count": null,
   "id": "384793cc",
   "metadata": {},
   "outputs": [],
   "source": [
    "#1\n",
    "import matplotlib.pyplot as plt\n",
    "\n",
    "\n",
    "figure = plt.figure()\n",
    "axes1 = figure.add_subplot(1,3,1)\n",
    "axes2 = figure.add_subplot(1,3,2)\n",
    "axes3 = figure.add_subplot(1,3,3)\n",
    "\n",
    "axes1.set_title(\"plot1\")\n",
    "axes2.set_title(\"plot2\")\n",
    "axes3.set_title(\"plot3\")\n",
    "plt.show()"
   ]
  },
  {
   "cell_type": "code",
   "execution_count": null,
   "id": "e8973aa5",
   "metadata": {},
   "outputs": [],
   "source": [
    "#2\n",
    "import matplotlib.pyplot as plt\n",
    "\n",
    "figure = plt.figure()\n",
    "axes1 = figure.add_subplot(1,3,1)\n",
    "axes2 = figure.add_subplot(1,3,2)\n",
    "axes3 = figure.add_subplot(1,3,3)\n",
    "\n",
    "axes1.set_title(\"圖表一\")\n",
    "axes2.set_title(\"圖表二\")\n",
    "axes3.set_title(\"圖表三\")\n",
    "plt.show()"
   ]
  },
  {
   "cell_type": "code",
   "execution_count": null,
   "id": "4755f65a",
   "metadata": {},
   "outputs": [],
   "source": [
    "#3\n",
    "import matplotlib.pyplot as plt\n",
    "import matplotlib as mpl                                #這是package\n",
    "from matplotlib.font_manager import fontManager\n",
    "\n",
    "fontManager.addfont(\"ChineseFont.ttf\")              \n",
    "mpl.rc('font', family=\"ChineseFont\")\n",
    "\n",
    "figure = plt.figure()\n",
    "axes1 = figure.add_subplot(1,3,1)\n",
    "axes2 = figure.add_subplot(1,3,2)\n",
    "axes3 = figure.add_subplot(1,3,3)\n",
    "\n",
    "axes1.set_title(\"圖表一\")\n",
    "axes2.set_title(\"plot2\")\n",
    "axes3.set_title(\"plot3\")\n",
    "plt.show()"
   ]
  },
  {
   "cell_type": "code",
   "execution_count": null,
   "id": "956b88cd",
   "metadata": {},
   "outputs": [],
   "source": [
    "import wget\n",
    "\n",
    "wget.download(\"https://github.com/roberthsu2003/machine_learning/raw/refs/heads/main/source_data/ChineseFont.ttf\")"
   ]
  },
  {
   "cell_type": "code",
   "execution_count": null,
   "id": "4475d418",
   "metadata": {},
   "outputs": [],
   "source": [
    "#4\n",
    "import matplotlib.pyplot as plt\n",
    "import matplotlib as mpl\n",
    "from matplotlib.font_manager import fontManager\n",
    "\n",
    "fontManager.addfont(\"ChineseFont.ttf\")\n",
    "mpl.rc('font', family=\"ChineseFont\")\n",
    "\n",
    "student1 = {'國文':78, '英文':80, '數學':92, '歷史':75, '探索':85}\n",
    "subjects = list(student1.keys())                                    #dict的實體方法常用的三種keys()>類似list;\n",
    "stu1_values = list(student1.values())                               #values() 抓出數值; items() 同時抓出keys跟values\n",
    "subjects, stu1_values                              #中間一個逗號用tuple表示\n"
   ]
  },
  {
   "cell_type": "code",
   "execution_count": null,
   "id": "5f86d1a9",
   "metadata": {},
   "outputs": [],
   "source": [
    "#標準寫法1\n",
    "figure = plt.figure(figsize=(8, 5),dpi=240,facecolor='#cccccc')        # 畫布大小,解析度,畫布顏色\n",
    "axes = figure.add_subplot(1,1,1)                            #畫布的實體方法\n",
    "axes.set_title('學生分數')\n",
    "axes.set_xlabel(\"科目\")\n",
    "axes.set_ylabel(\"分數\")\n",
    "axes.plot(subjects,stu1_values,marker='o',linestyle='-.')\n",
    "plt.show()\n",
    "plt.close()"
   ]
  },
  {
   "cell_type": "code",
   "execution_count": null,
   "id": "a307e1ea",
   "metadata": {},
   "outputs": [],
   "source": [
    "#5\n",
    "import matplotlib.pyplot as plt\n",
    "import matplotlib as mpl\n",
    "from matplotlib.font_manager import fontManager\n",
    "\n",
    "fontManager.addfont(\"ChineseFont.ttf\")\n",
    "mpl.rc('font', family=\"ChineseFont\")\n",
    "\n",
    "student1 = {'國文':78, '英文':80, '數學':92, '歷史':75, '探索':85}\n",
    "student2 = {'國文':90, '英文':75, '數學':98, '歷史':65, '探索':75}\n",
    "subjects = list(student1.keys())\n",
    "stu1_values = list(student1.values())\n",
    "stu2_values = list(student2.values())\n",
    "subjects, stu1_values, stu2_values"
   ]
  },
  {
   "cell_type": "code",
   "execution_count": null,
   "id": "335eac56",
   "metadata": {},
   "outputs": [],
   "source": [
    "#標準寫法2\n",
    "figure = plt.figure(figsize=(8, 5),dpi=240,facecolor='#cccccc')\n",
    "axes = figure.add_subplot(1,1,1)\n",
    "axes.set_title(\"學生分數\")\n",
    "axes.set_xlabel(\"科目\")\n",
    "axes.set_ylabel(\"分數\")\n",
    "axes.plot(subjects,stu1_values,marker='o',linestyle='-.',label=\"學生1\")\n",
    "axes.plot(subjects,stu2_values,marker='o',linestyle='-.',label=\"學生2\")\n",
    "axes.legend()                                   #會在最適當角度幫你建立label\n",
    "plt.show()\n",
    "plt.close()"
   ]
  },
  {
   "cell_type": "code",
   "execution_count": null,
   "id": "23355101",
   "metadata": {},
   "outputs": [],
   "source": [
    "#標準寫法3\n",
    "figure = plt.figure(figsize=(8, 5),dpi=240,facecolor='#cccccc')\n",
    "axes = figure.add_subplot(1,1,1)\n",
    "axes.set_title(\"學生分數\")\n",
    "axes.set_xlabel(\"科目\")\n",
    "axes.set_ylabel(\"分數\")\n",
    "axes.plot(subjects,stu1_values,marker='o',linestyle='-.',label=\"學生1\")\n",
    "axes.plot(subjects,stu2_values,marker='o',linestyle='-.',label=\"學生2\")\n",
    "x_locations = axes.get_xticks()\n",
    "y_locations = axes.get_yticks()\n",
    "#print(axes.get_xticklabels())\n",
    "#axes.set_xticklabels(['chinese', 'english', 'math', 'history', 'discover'])\n",
    "axes.set_xlim(xmin=min(x_locations)-1,xmax=max(x_locations)+1)\n",
    "axes.set_ylim(ymin=min(y_locations)-10,ymax=max(y_locations)+10)\n",
    "axes.legend()\n",
    "plt.show()\n",
    "plt.close()"
   ]
  },
  {
   "cell_type": "code",
   "execution_count": null,
   "id": "626d1065",
   "metadata": {},
   "outputs": [],
   "source": [
    "#標準寫法\n",
    "figure = plt.figure(figsize=(8, 5),dpi=240,facecolor='#cccccc')\n",
    "axes = figure.add_subplot(1,1,1)\n",
    "axes.set_title(\"學生分數\")\n",
    "axes.set_xlabel(\"科目\")\n",
    "axes.set_ylabel(\"分數\")\n",
    "axes.plot(subjects,stu1_values,marker='o',linestyle='-.',label=\"學生1\")\n",
    "axes.plot(subjects,stu2_values,marker='o',linestyle='-.',label=\"學生2\")\n",
    "x_locations = axes.get_xticks()\n",
    "y_locations = axes.get_yticks()\n",
    "#print(axes.get_xticklabels())\n",
    "#axes.set_xticklabels(['chinese', 'english', 'math', 'history', 'discover'])\n",
    "axes.set_xlim(xmin=min(x_locations)-1,xmax=max(x_locations)+1)\n",
    "axes.set_ylim(ymin=min(y_locations)-10,ymax=max(y_locations)+10)\n",
    "for x in x_locations:\n",
    "    axes.annotate(str(stu1_values[x]),(x,stu1_values[x]+1))\n",
    "    axes.annotate(str(stu2_values[x]),(x,stu2_values[x]+1))\n",
    "#axes.annotate(\"註解\",(0,80))\n",
    "axes.legend()\n",
    "plt.show()\n",
    "plt.close()"
   ]
  },
  {
   "cell_type": "code",
   "execution_count": null,
   "id": "600c51c8",
   "metadata": {},
   "outputs": [],
   "source": [
    "#標準寫法\n",
    "figure = plt.figure(figsize=(8, 5),dpi=240,facecolor='#cccccc')\n",
    "axes = figure.add_subplot(1,1,1)\n",
    "axes.set_title(\"學生分數\")\n",
    "axes.set_xlabel(\"科目\")\n",
    "axes.set_ylabel(\"分數\")\n",
    "axes.plot(subjects,stu1_values,marker='o',linestyle='-.',label=\"學生1\")\n",
    "axes.plot(subjects,stu2_values,marker='o',linestyle='-.',label=\"學生2\")\n",
    "axes.hlines(85,xmin=-1,xmax=6,colors='red',linestyles='--')\n",
    "x_locations = axes.get_xticks()\n",
    "y_locations = axes.get_yticks()\n",
    "#print(axes.get_xticklabels())\n",
    "#axes.set_xticklabels(['chinese', 'english', 'math', 'history', 'discover'])\n",
    "axes.set_xlim(xmin=min(x_locations)-1,xmax=max(x_locations)+1)\n",
    "axes.set_ylim(ymin=min(y_locations)-10,ymax=max(y_locations)+10)\n",
    "\n",
    "for x in x_locations:\n",
    "    axes.annotate(str(stu1_values[x]),(x,stu1_values[x]+1))\n",
    "    axes.annotate(str(stu2_values[x]),(x,stu2_values[x]+1))\n",
    "#axes.annotate(\"註解\",(0,80))\n",
    "axes.legend()\n",
    "axes.grid(axis='y')\n",
    "plt.show()\n",
    "plt.close()"
   ]
  }
 ],
 "metadata": {
  "kernelspec": {
   "display_name": "myenv",
   "language": "python",
   "name": "python3"
  },
  "language_info": {
   "codemirror_mode": {
    "name": "ipython",
    "version": 3
   },
   "file_extension": ".py",
   "mimetype": "text/x-python",
   "name": "python",
   "nbconvert_exporter": "python",
   "pygments_lexer": "ipython3",
   "version": "3.10.16"
  }
 },
 "nbformat": 4,
 "nbformat_minor": 5
}
