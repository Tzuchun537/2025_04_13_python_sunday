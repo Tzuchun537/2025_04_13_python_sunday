{
 "cells": [
  {
   "cell_type": "markdown",
   "id": "f845b0d7",
   "metadata": {},
   "source": [
    "https://www.perplexity.ai/search/83b26786-5e8e-4cbe-ac68-acf4626be7c8"
   ]
  },
  {
   "cell_type": "code",
   "execution_count": null,
   "id": "5ccf5535",
   "metadata": {},
   "outputs": [],
   "source": [
    "import os\n",
    "folder_name = '每日各站進出站人數'\n",
    "folder_abspath = os.path.abspath(folder_name)\n",
    "allitems:list[str] = os.listdir(folder_abspath)\n",
    "\n",
    "# for file_name in allitems:\n",
    "#     if len(file_name) > 12:\n",
    "#         print(file_name)\n",
    "\n",
    "#綜合串列運算語法(comprehension)\n",
    "\n",
    "filenames = [file_name for file_name in allitems if len(file_name) > 12]\n",
    "for file_name in filenames:\n",
    "    filename_absPath = os.path.join(folder_abspath, file_name)\n",
    "    print(filename_absPath)"
   ]
  },
  {
   "cell_type": "code",
   "execution_count": null,
   "id": "f3763626",
   "metadata": {},
   "outputs": [],
   "source": [
    "import pandas as pd\n",
    "import os\n",
    "csv_absPath = os.path.join(folder_abspath,filenames[0])\n",
    "df = pd.read_csv(csv_absPath)\n",
    "site_df = pd.read_csv(os.path.abspath('台鐵車站資訊.csv'))\n",
    "print(df.columns)\n",
    "print(site_df.columns)\n",
    "df1 = pd.merge(df,site_df,left_on='staCode',right_on='stationCode',how='left')"
   ]
  },
  {
   "cell_type": "code",
   "execution_count": null,
   "id": "3430fffe",
   "metadata": {},
   "outputs": [],
   "source": [
    "df2 = df1.reindex(columns=['trnOpDate','staCode','gateInComingCnt','gateOutGoingCnt','name','stationAddrTw','gps','haveBike'])"
   ]
  },
  {
   "cell_type": "code",
   "execution_count": null,
   "id": "014d2c60",
   "metadata": {},
   "outputs": [],
   "source": [
    "df3 = df2.rename(columns={'trnOpDate':'日期',\n",
    "                    'staCode':'代碼',\n",
    "                    'gateInComingCnt':'進站人數',\n",
    "                    'gateOutGoingCnt':'出站人數',\n",
    "                    'name':'站名',\n",
    "                    'stationAddrTw':'地址',\n",
    "                    'gps':'gps',\n",
    "                    'haveBike':'youBike'\n",
    "                    })\n"
   ]
  },
  {
   "cell_type": "code",
   "execution_count": null,
   "id": "d51e267f",
   "metadata": {},
   "outputs": [],
   "source": [
    "df4 = df3.dropna()\n",
    "df4['日期'] = pd.to_datetime(df4['日期'].astype(str))\n",
    "df4.info()"
   ]
  },
  {
   "cell_type": "code",
   "execution_count": null,
   "id": "d93be048",
   "metadata": {},
   "outputs": [],
   "source": [
    "df4"
   ]
  }
 ],
 "metadata": {
  "kernelspec": {
   "display_name": "myenv",
   "language": "python",
   "name": "python3"
  },
  "language_info": {
   "codemirror_mode": {
    "name": "ipython",
    "version": 3
   },
   "file_extension": ".py",
   "mimetype": "text/x-python",
   "name": "python",
   "nbconvert_exporter": "python",
   "pygments_lexer": "ipython3",
   "version": "3.10.18"
  }
 },
 "nbformat": 4,
 "nbformat_minor": 5
}
