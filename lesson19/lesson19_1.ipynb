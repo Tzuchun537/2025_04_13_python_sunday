{
 "cells": [
  {
   "cell_type": "markdown",
   "id": "d18710c4",
   "metadata": {},
   "source": [
    "https://www.perplexity.ai/search/0eafd6c8-1230-4d5d-9553-446ea1f18997"
   ]
  },
  {
   "cell_type": "code",
   "execution_count": null,
   "id": "4782ad16",
   "metadata": {},
   "outputs": [],
   "source": [
    "#學生的成績單\n",
    "\n",
    "import numpy as np\n",
    "import pandas as pd \n",
    "\n",
    "scores = np.random.randint(50, 101, size=(50, 5))\n",
    "scores_pd = pd.DataFrame(scores,columns=['國文','英文','數學','地理','歷史'],index=range(1,51))\n",
    "scores_pd.T                         #加.T 交換 index,co;umns位子\n"
   ]
  },
  {
   "cell_type": "code",
   "execution_count": null,
   "id": "80a77ed9",
   "metadata": {},
   "outputs": [],
   "source": [
    "scores_pd.index.name = \"學號\"\n",
    "scores_pd.columns.name = \"科目\"\n",
    "sum_value = scores_pd.sum(axis=1)\n",
    "mean_value = np.mean(scores_pd,axis=1)\n",
    "\n"
   ]
  },
  {
   "cell_type": "code",
   "execution_count": null,
   "id": "36906ed8",
   "metadata": {},
   "outputs": [],
   "source": [
    "scores_pd['總分'] = sum_value\n",
    "scores_pd['平均'] = mean_value"
   ]
  },
  {
   "cell_type": "code",
   "execution_count": null,
   "id": "d0298000",
   "metadata": {},
   "outputs": [],
   "source": [
    "#排序\n",
    "scores_pd1 = scores_pd.sort_values(by='總分',ascending=False)\n",
    "scores_pd1"
   ]
  },
  {
   "cell_type": "code",
   "execution_count": null,
   "id": "5fa4b37c",
   "metadata": {},
   "outputs": [],
   "source": [
    "# 排名\n",
    "scores_pd1['排名'] = scores_pd1['總分'].rank(axis=0,method='min',ascending=False)"
   ]
  },
  {
   "cell_type": "code",
   "execution_count": null,
   "id": "8c440dd3",
   "metadata": {},
   "outputs": [],
   "source": [
    "scores_pd1\n",
    "scores_pd1.iloc[-5:]"
   ]
  },
  {
   "cell_type": "code",
   "execution_count": null,
   "id": "23a76ef0",
   "metadata": {},
   "outputs": [],
   "source": [
    "scores_pd1\n",
    "scores_pd1.map(lambda v:float(v))      #map 自訂function >>>return value"
   ]
  },
  {
   "cell_type": "code",
   "execution_count": null,
   "id": "650fa0de",
   "metadata": {},
   "outputs": [],
   "source": [
    "def calulate(s,v=0):\n",
    "    print(v)\n",
    "    return s\n",
    "scores_pd1.iloc[:,:5]"
   ]
  },
  {
   "cell_type": "code",
   "execution_count": null,
   "id": "73315f13",
   "metadata": {},
   "outputs": [],
   "source": [
    "def calulate(s):\n",
    "    #return 自訂的series\n",
    "    return s\n",
    "scores_pd1.iloc[:,:5].apply(calulate)"
   ]
  },
  {
   "cell_type": "code",
   "execution_count": 13,
   "id": "c2e6cb63",
   "metadata": {},
   "outputs": [
    {
     "data": {
      "text/html": [
       "<div>\n",
       "<style scoped>\n",
       "    .dataframe tbody tr th:only-of-type {\n",
       "        vertical-align: middle;\n",
       "    }\n",
       "\n",
       "    .dataframe tbody tr th {\n",
       "        vertical-align: top;\n",
       "    }\n",
       "\n",
       "    .dataframe thead th {\n",
       "        text-align: right;\n",
       "    }\n",
       "</style>\n",
       "<table border=\"1\" class=\"dataframe\">\n",
       "  <thead>\n",
       "    <tr style=\"text-align: right;\">\n",
       "      <th>科目</th>\n",
       "      <th>國文</th>\n",
       "      <th>英文</th>\n",
       "      <th>數學</th>\n",
       "      <th>地理</th>\n",
       "      <th>歷史</th>\n",
       "    </tr>\n",
       "  </thead>\n",
       "  <tbody>\n",
       "    <tr>\n",
       "      <th>最低分數</th>\n",
       "      <td>53.000000</td>\n",
       "      <td>50.000000</td>\n",
       "      <td>52.000000</td>\n",
       "      <td>55.000000</td>\n",
       "      <td>51.000000</td>\n",
       "    </tr>\n",
       "    <tr>\n",
       "      <th>最高分數</th>\n",
       "      <td>100.000000</td>\n",
       "      <td>100.000000</td>\n",
       "      <td>100.000000</td>\n",
       "      <td>100.000000</td>\n",
       "      <td>98.000000</td>\n",
       "    </tr>\n",
       "    <tr>\n",
       "      <th>中間值</th>\n",
       "      <td>79.000000</td>\n",
       "      <td>77.500000</td>\n",
       "      <td>76.000000</td>\n",
       "      <td>78.000000</td>\n",
       "      <td>76.500000</td>\n",
       "    </tr>\n",
       "    <tr>\n",
       "      <th>標準差</th>\n",
       "      <td>14.098777</td>\n",
       "      <td>15.842657</td>\n",
       "      <td>14.602823</td>\n",
       "      <td>12.764891</td>\n",
       "      <td>13.580072</td>\n",
       "    </tr>\n",
       "  </tbody>\n",
       "</table>\n",
       "</div>"
      ],
      "text/plain": [
       "科目            國文          英文          數學          地理         歷史\n",
       "最低分數   53.000000   50.000000   52.000000   55.000000  51.000000\n",
       "最高分數  100.000000  100.000000  100.000000  100.000000  98.000000\n",
       "中間值    79.000000   77.500000   76.000000   78.000000  76.500000\n",
       "標準差    14.098777   15.842657   14.602823   12.764891  13.580072"
      ]
     },
     "execution_count": 13,
     "metadata": {},
     "output_type": "execute_result"
    }
   ],
   "source": [
    "def calulate(s):\n",
    "    #return 自訂的series\n",
    "    custom_series = pd.Series([s.min(),s.max(),s.median(),s.std()],index=[\"最低分數\",\"最高分數\",\"中間值\",\"標準差\"])\n",
    "    return custom_series\n",
    "scores_pd1.iloc[:,:5].apply(calulate)"
   ]
  }
 ],
 "metadata": {
  "kernelspec": {
   "display_name": "myenv",
   "language": "python",
   "name": "python3"
  },
  "language_info": {
   "codemirror_mode": {
    "name": "ipython",
    "version": 3
   },
   "file_extension": ".py",
   "mimetype": "text/x-python",
   "name": "python",
   "nbconvert_exporter": "python",
   "pygments_lexer": "ipython3",
   "version": "3.10.16"
  }
 },
 "nbformat": 4,
 "nbformat_minor": 5
}
