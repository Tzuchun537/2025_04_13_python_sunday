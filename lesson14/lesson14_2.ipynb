{
 "cells": [
  {
   "cell_type": "code",
   "execution_count": null,
   "id": "41921ed1",
   "metadata": {},
   "outputs": [],
   "source": [
    "import matplotlib.pyplot as plt\n",
    "import matplotlib as mpl\n",
    "from matplotlib.font_manager import fontManager\n",
    "\n",
    "fontManager.addfont(\"ChineseFont.ttf\")\n",
    "mpl.rc('font', family=\"ChineseFont\")\n",
    "\n",
    "student1 = {'國文':78, '英文':80, '數學':92, '歷史':75, '探索':85}\n",
    "student2 = {'國文':90, '英文':75, '數學':98, '歷史':65, '探索':75}\n",
    "subjects = list(student1.keys())\n",
    "stu1_values = list(student1.values())\n",
    "stu2_values = list(student2.values())\n",
    "subjects, stu1_values, stu2_values"
   ]
  },
  {
   "cell_type": "code",
   "execution_count": null,
   "id": "4a6a3dbb",
   "metadata": {},
   "outputs": [],
   "source": [
    "#隱含式寫法(module plt的寫法)\n",
    "plt.figure(figsize=(8, 5),dpi=240,facecolor='#cccccc')\n",
    "plt.plot(subjects,stu1_values,marker='o',linestyle='-.',label=\"學生1\",alpha=0.5)\n",
    "plt.plot(subjects,stu2_values,marker='o',linestyle='-.',label=\"學生2\",alpha=0.5)\n",
    "plt.hlines(85,xmin=-1,xmax=6,colors='red',linestyles='--',alpha=0.8)\n",
    "x_locations = plt.xticks()[0]\n",
    "y_locations = plt.yticks()[0]\n",
    "plt.xlim(xmin=min(x_locations)-1,xmax=max(x_locations)+1)\n",
    "plt.ylim(ymin=min(y_locations)-10,ymax=max(y_locations)+10)\n",
    "for x in x_locations:\n",
    "    plt.annotate(str(stu1_values[x]),(x,stu1_values[x]+1))\n",
    "    plt.annotate(str(stu2_values[x]),(x,stu2_values[x]+1))\n",
    "plt.legend()\n",
    "plt.grid(axis='y')\n",
    "plt.title(\"學生分數\")\n",
    "plt.xlabel(\"科目\")\n",
    "plt.ylabel(\"分數\")\n",
    "plt.show()\n",
    "plt.close()"
   ]
  }
 ],
 "metadata": {
  "kernelspec": {
   "display_name": "myenv",
   "language": "python",
   "name": "python3"
  },
  "language_info": {
   "name": "python",
   "version": "3.10.16"
  }
 },
 "nbformat": 4,
 "nbformat_minor": 5
}
