{
 "cells": [
  {
   "cell_type": "code",
   "execution_count": null,
   "id": "4c0e2e1d",
   "metadata": {},
   "outputs": [],
   "source": [
    "#1\n",
    "import numpy as np\n",
    "import math\n",
    "import matplotlib.pyplot as plt\n",
    "\n",
    "t = np.arange(0, 2.5, 0.1)\n",
    "\n",
    "y1 = np.sin(t * math.pi)\n",
    "plt.plot(t, y1,marker='*')"
   ]
  },
  {
   "cell_type": "code",
   "execution_count": null,
   "id": "9078180e",
   "metadata": {},
   "outputs": [],
   "source": [
    "#2\n",
    "import numpy as np\n",
    "import math\n",
    "import matplotlib.pyplot as plt\n",
    "\n",
    "t = np.arange(0, 2.5, 0.1)\n",
    "y1 = np.sin(t * math.pi)\n",
    "y2 = np.sin(t * math.pi + math.pi/2 )  \n",
    "y3 = np.sin(t * math.pi - math.pi/2 )\n",
    "plt.plot(t, y1,marker='*',linestyle='',color='r')\n",
    "plt.plot(t, y2, marker='^', linestyle='', color='g')\n",
    "plt.plot(t, y3, marker='s', linestyle='', color='y')"
   ]
  }
 ],
 "metadata": {
  "kernelspec": {
   "display_name": "myenv",
   "language": "python",
   "name": "python3"
  },
  "language_info": {
   "codemirror_mode": {
    "name": "ipython",
    "version": 3
   },
   "file_extension": ".py",
   "mimetype": "text/x-python",
   "name": "python",
   "nbconvert_exporter": "python",
   "pygments_lexer": "ipython3",
   "version": "3.10.16"
  }
 },
 "nbformat": 4,
 "nbformat_minor": 5
}
