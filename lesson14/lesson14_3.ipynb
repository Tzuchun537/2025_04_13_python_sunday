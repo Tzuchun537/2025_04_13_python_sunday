{
 "cells": [
  {
   "cell_type": "code",
   "execution_count": 2,
   "id": "7ac832f8",
   "metadata": {},
   "outputs": [],
   "source": [
    "import matplotlib.pyplot as plt\n",
    "import matplotlib as mpl\n",
    "from matplotlib.font_manager import fontManager\n",
    "import random\n",
    "\n",
    "fontManager.addfont(\"ChineseFont.ttf\")\n",
    "mpl.rc('font', family=\"ChineseFont\")\n",
    "\n",
    "#list comprehension\n",
    "#days = [day for day in range(1,31)]\n",
    "\n",
    "#list建構式\n",
    "days = list(range(1,31))\n",
    "\n",
    "july = [round(random.uniform(28.5, 35.2),ndigits=1) for _ in range(1,31)]\n",
    "august = [round(random.uniform(28.5, 35.2),ndigits=1) for _ in range(1,31)]"
   ]
  },
  {
   "cell_type": "code",
   "execution_count": null,
   "id": "2bd7ea4f",
   "metadata": {},
   "outputs": [],
   "source": [
    "figure = plt.figure(figsize=(8, 12))\n",
    "axes1 = figure.add_subplot(2,1,1)\n",
    "axes1.plot(days, july,marker='o',color='r',linestyle='-.',label='7月')\n",
    "axes1.set_xticks(days)\n",
    "axes1.legend()\n",
    "axes1.grid(axis='y')\n",
    "axes1.set_title('7月溫度')\n",
    "\n",
    "axes2 = figure.add_subplot(2,1,2)\n",
    "plt.show()\n",
    "plt.close()"
   ]
  },
  {
   "cell_type": "code",
   "execution_count": null,
   "id": "5443100d",
   "metadata": {},
   "outputs": [],
   "source": [
    "figure = plt.figure(figsize=(8, 12))\n",
    "axes1 = figure.add_subplot(2,1,1)\n",
    "axes1.plot(days, july,marker='o',color='r',linestyle='-.',label='7月')\n",
    "axes1.set_xticks(days)\n",
    "axes1.legend()\n",
    "axes1.grid(axis='y')\n",
    "axes1.set_title('7月溫度')\n",
    "axes1.set_xlabel(\"日期\")\n",
    "axes1.set_ylabel(\"攝氏\")\n",
    "\n",
    "axes2 = figure.add_subplot(2,1,2)\n",
    "axes2.scatter(days, august,marker='x',label='八月',color='g')\n",
    "axes2.set_xticks(days)\n",
    "axes2.legend()\n",
    "axes2.grid(axis='y')\n",
    "axes2.set_title('8月溫度')\n",
    "axes2.set_xlabel(\"日期\")\n",
    "axes2.set_ylabel(\"攝氏\")\n",
    "plt.tight_layout()\n",
    "plt.show()\n",
    "plt.close()\n"
   ]
  }
 ],
 "metadata": {
  "kernelspec": {
   "display_name": "myenv",
   "language": "python",
   "name": "python3"
  },
  "language_info": {
   "codemirror_mode": {
    "name": "ipython",
    "version": 3
   },
   "file_extension": ".py",
   "mimetype": "text/x-python",
   "name": "python",
   "nbconvert_exporter": "python",
   "pygments_lexer": "ipython3",
   "version": "3.10.16"
  }
 },
 "nbformat": 4,
 "nbformat_minor": 5
}
