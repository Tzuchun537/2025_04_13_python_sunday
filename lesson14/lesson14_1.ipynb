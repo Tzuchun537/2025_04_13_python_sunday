{
 "cells": [
  {
   "cell_type": "code",
   "execution_count": 1,
   "id": "7ca0b8c2",
   "metadata": {},
   "outputs": [
    {
     "data": {
      "text/plain": [
       "(['國文', '英文', '數學', '歷史', '探索'], [78, 80, 92, 75, 85], [90, 75, 98, 65, 75])"
      ]
     },
     "execution_count": 1,
     "metadata": {},
     "output_type": "execute_result"
    }
   ],
   "source": [
    "import matplotlib.pyplot as plt\n",
    "import matplotlib as mpl\n",
    "from matplotlib.font_manager import fontManager\n",
    "\n",
    "fontManager.addfont(\"ChineseFont.ttf\")\n",
    "mpl.rc('font', family=\"ChineseFont\")\n",
    "\n",
    "student1 = {'國文':78, '英文':80, '數學':92, '歷史':75, '探索':85}\n",
    "student2 = {'國文':90, '英文':75, '數學':98, '歷史':65, '探索':75}\n",
    "subjects = list(student1.keys())\n",
    "stu1_values = list(student1.values())\n",
    "stu2_values = list(student2.values())\n",
    "subjects, stu1_values, stu2_values"
   ]
  },
  {
   "cell_type": "code",
   "execution_count": null,
   "id": "90655500",
   "metadata": {},
   "outputs": [],
   "source": [
    "#標準寫法\n",
    "figure = plt.figure(figsize=(8, 5),dpi=240,facecolor='#cccccc')\n",
    "axes = figure.add_subplot(1,1,1)\n",
    "axes.set_title(\"學生分數\")\n",
    "axes.set_xlabel(\"科目\")\n",
    "axes.set_ylabel(\"分數\")\n",
    "axes.plot(subjects,stu1_values,marker='o',linestyle='-.',label=\"學生1\")\n",
    "axes.plot(subjects,stu2_values,marker='o',linestyle='-.',label=\"學生2\")\n",
    "axes.hlines(85,xmin=-1,xmax=6,colors='red',linestyles='--')\n",
    "x_locations = axes.get_xticks()\n",
    "y_locations = axes.get_yticks()\n",
    "#print(axes.get_xticklabels())\n",
    "#axes.set_xticklabels(['chinese', 'english', 'math', 'history', 'discover'])\n",
    "axes.set_xlim(xmin=min(x_locations)-1,xmax=max(x_locations)+1)\n",
    "axes.set_ylim(ymin=min(y_locations)-10,ymax=max(y_locations)+10)\n",
    "\n",
    "for x in x_locations:\n",
    "    axes.annotate(str(stu1_values[x]),(x,stu1_values[x]+1))\n",
    "    axes.annotate(str(stu2_values[x]),(x,stu2_values[x]+1))\n",
    "#axes.annotate(\"註解\",(0,80))\n",
    "axes.legend()\n",
    "axes.grid(axis='y')\n",
    "plt.show()\n",
    "plt.close()"
   ]
  },
  {
   "cell_type": "code",
   "execution_count": null,
   "id": "735a2fac",
   "metadata": {},
   "outputs": [],
   "source": [
    "#標準寫法\n",
    "figure = plt.figure(figsize=(8, 5),dpi=240,facecolor='#cccccc')\n",
    "axes = figure.add_subplot(1,1,1)\n",
    "axes.set_title(\"學生分數\")\n",
    "axes.set_xlabel(\"科目\")\n",
    "axes.set_ylabel(\"分數\")\n",
    "axes.plot(subjects,stu1_values,marker='o',linestyle='-.',label=\"學生1\",alpha=0.5)\n",
    "axes.plot(subjects,stu2_values,marker='o',linestyle='-.',label=\"學生2\",alpha=0.5)\n",
    "axes.hlines(85,xmin=-1,xmax=6,colors='red',linestyles='--',alpha=0.8)\n",
    "x_locations = axes.get_xticks()\n",
    "y_locations = axes.get_yticks()\n",
    "#print(axes.get_xticklabels())\n",
    "#axes.set_xticklabels(['chinese', 'english', 'math', 'history', 'discover'])\n",
    "axes.set_xlim(xmin=min(x_locations)-1,xmax=max(x_locations)+1)\n",
    "axes.set_ylim(ymin=min(y_locations)-10,ymax=max(y_locations)+10)\n",
    "\n",
    "for x in x_locations:\n",
    "    axes.annotate(str(stu1_values[x]),(x,stu1_values[x]+1))\n",
    "    axes.annotate(str(stu2_values[x]),(x,stu2_values[x]+1))\n",
    "#axes.annotate(\"註解\",(0,80))\n",
    "axes.legend()\n",
    "axes.grid(axis='y')\n",
    "plt.show()\n",
    "plt.close()"
   ]
  }
 ],
 "metadata": {
  "kernelspec": {
   "display_name": "myenv",
   "language": "python",
   "name": "python3"
  },
  "language_info": {
   "codemirror_mode": {
    "name": "ipython",
    "version": 3
   },
   "file_extension": ".py",
   "mimetype": "text/x-python",
   "name": "python",
   "nbconvert_exporter": "python",
   "pygments_lexer": "ipython3",
   "version": "3.10.16"
  }
 },
 "nbformat": 4,
 "nbformat_minor": 5
}
