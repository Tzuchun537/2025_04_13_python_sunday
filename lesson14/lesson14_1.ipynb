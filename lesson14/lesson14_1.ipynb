{
 "cells": [
  {
   "cell_type": "code",
   "execution_count": null,
   "id": "90655500",
   "metadata": {},
   "outputs": [],
   "source": [
    "#標準寫法\n",
    "figure = plt.figure(figsize=(8, 5),dpi=240,facecolor='#cccccc')\n",
    "axes = figure.add_subplot(1,1,1)\n",
    "axes.set_title(\"學生分數\")\n",
    "axes.set_xlabel(\"科目\")\n",
    "axes.set_ylabel(\"分數\")\n",
    "axes.plot(subjects,stu1_values,marker='o',linestyle='-.',label=\"學生1\")\n",
    "axes.plot(subjects,stu2_values,marker='o',linestyle='-.',label=\"學生2\")\n",
    "axes.hlines(85,xmin=-1,xmax=6,colors='red',linestyles='--')\n",
    "x_locations = axes.get_xticks()\n",
    "y_locations = axes.get_yticks()\n",
    "#print(axes.get_xticklabels())\n",
    "#axes.set_xticklabels(['chinese', 'english', 'math', 'history', 'discover'])\n",
    "axes.set_xlim(xmin=min(x_locations)-1,xmax=max(x_locations)+1)\n",
    "axes.set_ylim(ymin=min(y_locations)-10,ymax=max(y_locations)+10)\n",
    "\n",
    "for x in x_locations:\n",
    "    axes.annotate(str(stu1_values[x]),(x,stu1_values[x]+1))\n",
    "    axes.annotate(str(stu2_values[x]),(x,stu2_values[x]+1))\n",
    "#axes.annotate(\"註解\",(0,80))\n",
    "axes.legend()\n",
    "axes.grid(axis='y')\n",
    "plt.show()\n",
    "plt.close()"
   ]
  }
 ],
 "metadata": {
  "language_info": {
   "name": "python"
  }
 },
 "nbformat": 4,
 "nbformat_minor": 5
}
