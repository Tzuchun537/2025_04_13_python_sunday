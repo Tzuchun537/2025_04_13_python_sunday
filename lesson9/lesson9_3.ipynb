{
 "cells": [
  {
   "cell_type": "code",
   "execution_count": null,
   "id": "608c4a7a",
   "metadata": {},
   "outputs": [],
   "source": [
    "li1 = list()\n",
    "type(li1)"
   ]
  },
  {
   "cell_type": "code",
   "execution_count": null,
   "id": "ecfeecbe",
   "metadata": {},
   "outputs": [],
   "source": [
    "#使用list的實體方法\n",
    "li1.append(3)\n",
    "li1"
   ]
  },
  {
   "cell_type": "code",
   "execution_count": null,
   "id": "f48b507b",
   "metadata": {},
   "outputs": [],
   "source": [
    "li1.extend((5, 7, 9))\n",
    "li1"
   ]
  },
  {
   "cell_type": "code",
   "execution_count": null,
   "id": "2f272ef7",
   "metadata": {},
   "outputs": [],
   "source": [
    "li1.insert(0, 100)\n",
    "li1"
   ]
  },
  {
   "cell_type": "code",
   "execution_count": null,
   "id": "685a5702",
   "metadata": {},
   "outputs": [],
   "source": [
    "li1.pop()\n",
    "li1"
   ]
  },
  {
   "cell_type": "code",
   "execution_count": 1,
   "id": "1dfe8b97",
   "metadata": {},
   "outputs": [
    {
     "name": "stdout",
     "output_type": "stream",
     "text": [
      "name\n",
      "小明\n",
      "===========\n",
      "chinese\n",
      "85\n",
      "===========\n",
      "english\n",
      "92\n",
      "===========\n",
      "math\n",
      "78\n",
      "===========\n"
     ]
    }
   ],
   "source": [
    "student = {\"name\": \"小明\", \"chinese\": 85, \"english\": 92, \"math\": 78}\n",
    "for key, value in student.items():\n",
    "    print(key)\n",
    "    print(value)\n",
    "    print(\"===========\")"
   ]
  }
 ],
 "metadata": {
  "kernelspec": {
   "display_name": "base",
   "language": "python",
   "name": "python3"
  },
  "language_info": {
   "codemirror_mode": {
    "name": "ipython",
    "version": 3
   },
   "file_extension": ".py",
   "mimetype": "text/x-python",
   "name": "python",
   "nbconvert_exporter": "python",
   "pygments_lexer": "ipython3",
   "version": "3.12.7"
  }
 },
 "nbformat": 4,
 "nbformat_minor": 5
}
