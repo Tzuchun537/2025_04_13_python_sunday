{
 "cells": [
  {
   "cell_type": "markdown",
   "id": "b992da11",
   "metadata": {},
   "source": [
    "## 如何python取得目前專案內的names.txt的絕對位置\n",
    "- 請使用繁體中文回覆\n",
    "\n",
    "### 範例1\n",
    "```\n",
    "import os\n",
    "\n",
    "#假設 names.txt 在目前執行的程式碼所在目錄（或專案根目錄）\n",
    "file_name = \"names.txt\"\n",
    "\n",
    "#取得絕對路徑\n",
    "abs_path = os.path.abspath(file_name)\n",
    "\n",
    "print(abs_path)\n",
    "````\n",
    "\n",
    "### 範例2\n",
    "```\n",
    "\n",
    "import os\n",
    "\n",
    "#取得目前 Python 腳本的所在目錄\n",
    "current_dir = os.path.dirname(os.path.abspath(__file__))\n",
    "\n",
    "#組合成 names.txt 的絕對路徑\n",
    "file_path = os.path.join(current_dir, \"names.txt\")\n",
    "\n",
    "print(file_path)\n",
    "````\n"
   ]
  },
  {
   "cell_type": "code",
   "execution_count": 3,
   "id": "585b7a85",
   "metadata": {},
   "outputs": [
    {
     "data": {
      "text/plain": [
       "'/workspaces/2025_04_13_python_sunday/lesson10/names.txt'"
      ]
     },
     "execution_count": 3,
     "metadata": {},
     "output_type": "execute_result"
    }
   ],
   "source": [
    "import os\n",
    "file_name:str = 'names.txt' \n",
    "abs_path:str = os.path.abspath(file_name)\n",
    "abs_path"
   ]
  },
  {
   "cell_type": "markdown",
   "id": "16dc613d",
   "metadata": {},
   "source": [
    "### python如何讀取names.txt\n",
    "- 請使用繁體中文回覆\n",
    "你可以用 Python 內建的 open() 函數來讀取 names.txt，常見的讀取方法有三種：\n",
    "你可以用 Python 內建的 open() 函數來讀取 names.txt，常見的讀取方法有三種：\n",
    "\n",
    "### 1. 一次讀取整個檔案內容（字串形式）\n",
    "```\n",
    "with open(\"names.txt\", \"r\", encoding=\"utf-8\") as f:\n",
    "    data = f.read()\n",
    "    print(data)\n",
    "這會將整個檔案內容讀取成一個字串[1][3][6]。\n",
    "```\n",
    "\n",
    "### 2. 一次讀取一行（讀取第一行）\n",
    "```\n",
    "with open(\"names.txt\", \"r\", encoding=\"utf-8\") as f:\n",
    "    line = f.readline()\n",
    "    print(line)\n",
    "這只會讀取檔案的第一行[1][3][6]。\n",
    "```\n",
    "\n",
    "### 3. 讀取所有行，回傳為串列（list）\n",
    "```\n",
    "with open(\"names.txt\", \"r\", encoding=\"utf-8\") as f:\n",
    "    lines = f.readlines()\n",
    "    for line in lines:\n",
    "        print(line.strip())  # 去除換行符號\n",
    "```\n",
    "\n",
    "這會將檔案所有行讀取成串列，每一行是串列的一個元素[1][3][6]。\n",
    "\n",
    "### 補充說明\n",
    "建議使用 with open() 方式開啟檔案，會自動幫你關閉檔案。\n",
    "若檔案中有中文，請加上 encoding=\"utf-8\" 以避免亂碼。\n",
    "strip() 可以去除每行字串尾端的換行符號\\n，讓輸出更整齊[1][3]。\n",
    "這些方法都適合讀取 names.txt 這類純文字檔案。你可以依需求選擇一次讀全部或逐行讀取的方式。\n",
    "\n",
    "### list comprehensions\n",
    "Python 中 list comprehension 的語法結構如下：\n",
    "\n",
    "[expression for item in iterable (if condition)]\n",
    "expression：用來決定新串列中每個元素的值，可以是運算式或函式呼叫。\n",
    "for item in iterable：從可迭代物件（如串列、range 等）中依序取出元素。\n",
    "if condition（可選）：篩選條件，只有符合條件的元素才會被包含在結果串列中。\n",
    "範例：\n",
    "```\n",
    "#建立一個包含 0~4 乘以 2 的串列\n",
    "my_list = [i * 2 for i in range(5)]\n",
    "print(my_list)  # 輸出: [0, 2, 4, 6, 8]\n",
    "\n",
    "#篩選出大於 2 的元素並乘以 3\n",
    "filtered_list = [x * 3 for x in range(10) if x > 2]\n",
    "print(filtered_list)  # 輸出: [9, 12, 15, 18, 21, 24, 27]\n",
    "```\n",
    "list comprehension 不僅能簡化程式碼，還通常比傳統的 for 迴圈執行效率更高[1][3][5]。\n"
   ]
  },
  {
   "cell_type": "code",
   "execution_count": null,
   "id": "7ceac911",
   "metadata": {},
   "outputs": [],
   "source": [
    "import os\n",
    "file_name:str = 'names.txt' \n",
    "abs_path:str = os.path.abspath(file_name)\n",
    "file = open(abs_path,encoding='utf-8')\n",
    "names:list[str] = file.readlines()\n",
    "for name in names:\n",
    "    display(name.rstrip('\\n'))\n",
    "    break\n",
    "names"
   ]
  },
  {
   "cell_type": "code",
   "execution_count": null,
   "id": "b35a4678",
   "metadata": {},
   "outputs": [],
   "source": [
    "import os\n",
    "file_name:str = 'names.txt' \n",
    "abs_path:str = os.path.abspath(file_name)\n",
    "file = open(abs_path,encoding='utf-8')\n",
    "names:list[str] = file.readlines()\n",
    "new_names = []\n",
    "for name in names:\n",
    "    new_names.append(name.rstrip('\\n'))\n",
    "\n",
    "new_names"
   ]
  },
  {
   "cell_type": "code",
   "execution_count": null,
   "id": "1d547511",
   "metadata": {},
   "outputs": [],
   "source": [
    "import os\n",
    "file_name:str = 'names.txt' \n",
    "abs_path:str = os.path.abspath(file_name)\n",
    "file = open(abs_path,encoding='utf-8')\n",
    "names:list[str] = file.readlines()\n",
    "# new_names = []\n",
    "# for name in names:\n",
    "#     new_names.append(name.rstrip('\\n'))\n",
    "names = [name.rstrip('\\n') for name in names] #list comprehensions\n",
    "names"
   ]
  }
 ],
 "metadata": {
  "kernelspec": {
   "display_name": "base",
   "language": "python",
   "name": "python3"
  },
  "language_info": {
   "codemirror_mode": {
    "name": "ipython",
    "version": 3
   },
   "file_extension": ".py",
   "mimetype": "text/x-python",
   "name": "python",
   "nbconvert_exporter": "python",
   "pygments_lexer": "ipython3",
   "version": "3.12.7"
  }
 },
 "nbformat": 4,
 "nbformat_minor": 5
}
