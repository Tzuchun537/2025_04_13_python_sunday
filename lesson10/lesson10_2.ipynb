{
 "cells": [
  {
   "cell_type": "markdown",
   "id": "8dc0948b",
   "metadata": {},
   "source": [
    "# python如何讀取students.csv\n",
    "\n",
    "---\n",
    "\n",
    "你可以使用 Python 內建的 `csv` 模組來讀取 `students.csv`，以下是簡單的範例：\n",
    "\n",
    "```python\n",
    "import csv\n",
    "\n",
    "with open('students.csv', newline='', encoding='utf-8') as csvfile:\n",
    "    reader = csv.DictReader(csvfile)  # 使用 DictReader 讀取成字典格式\n",
    "    for row in reader:\n",
    "        print(row)  # 每一列會是字典，鍵是欄位名稱\n",
    "```\n",
    "\n",
    "說明：\n",
    "- `open()` 中指定 `encoding='utf-8'` 避免中文亂碼。\n",
    "- `csv.DictReader` 會自動把 CSV 第一列當作欄位名稱，並將每列轉成字典。\n",
    "- 你也可以用 `csv.reader` 讀成串列形式，但 `DictReader` 更適合有欄位標題的 CSV。\n",
    "\n",
    "執行後，每一列會輸出類似：\n",
    "\n",
    "```python\n",
    "{'姓名': '錢欣潔', '國文': '100', '英文': '77', '數學': '59'}\n",
    "{'姓名': '許芳如', '國文': '98', '英文': '74', '數學': '99'}\n",
    "{'姓名': '陳怡伶', '國文': '54', '英文': '67', '數學': '79'}\n",
    "```\n",
    "\n",
    "這是讀取 CSV 檔案並取得每筆資料的標準作法[1][2][4][5]。\n",
    "\n"
   ]
  },
  {
   "cell_type": "code",
   "execution_count": null,
   "id": "7ea09c4a",
   "metadata": {},
   "outputs": [],
   "source": [
    "import csv\n",
    "from csv import DictReader\n",
    "\n",
    "with open('students.csv',encoding='utf-8',newline='') as csv_file:\n",
    "    reader:DictReader = csv.DictReader(csv_file)\n",
    "    students = list(reader)\n",
    "    \n",
    "students"
   ]
  }
 ],
 "metadata": {
  "kernelspec": {
   "display_name": "myenv",
   "language": "python",
   "name": "python3"
  },
  "language_info": {
   "codemirror_mode": {
    "name": "ipython",
    "version": 3
   },
   "file_extension": ".py",
   "mimetype": "text/x-python",
   "name": "python",
   "nbconvert_exporter": "python",
   "pygments_lexer": "ipython3",
   "version": "3.10.16"
  }
 },
 "nbformat": 4,
 "nbformat_minor": 5
}
