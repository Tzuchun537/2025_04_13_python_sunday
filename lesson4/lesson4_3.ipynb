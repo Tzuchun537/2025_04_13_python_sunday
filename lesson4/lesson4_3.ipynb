{
 "cells": [
  {
   "cell_type": "markdown",
   "id": "9e55d0c8",
   "metadata": {},
   "source": [
    "### 輸入一個整數，判斷它是偶數還是奇數"
   ]
  },
  {
   "cell_type": "markdown",
   "id": "c5e8aa74",
   "metadata": {},
   "source": [
    "- 讓使用者輸入1數值\n",
    "- 輸出判斷是奇數還是偶數\n",
    "- 如果使用者輸入�,無法轉換為數值,請輸出錯誤訊息"
   ]
  },
  {
   "cell_type": "code",
   "execution_count": 7,
   "id": "b9f3ad46",
   "metadata": {},
   "outputs": [
    {
     "name": "stdout",
     "output_type": "stream",
     "text": [
      "88,這是偶數\n",
      "程式結束\n"
     ]
    }
   ],
   "source": [
    "try:\n",
    "    num_int = int(input(\"請輸入一個整數:\"))\n",
    "    if num_int % 2 == 0:\n",
    "        print(f'{num_int},這是偶數')\n",
    "    else: \n",
    "        print(f'{num_int},這是奇數')\n",
    "except ValueError:\n",
    "    print(\"錯誤訊息:無法轉換為數值,請輸出錯誤訊息\")\n",
    "\n",
    "print(\"程式結束\")"
   ]
  }
 ],
 "metadata": {
  "kernelspec": {
   "display_name": "base",
   "language": "python",
   "name": "python3"
  },
  "language_info": {
   "codemirror_mode": {
    "name": "ipython",
    "version": 3
   },
   "file_extension": ".py",
   "mimetype": "text/x-python",
   "name": "python",
   "nbconvert_exporter": "python",
   "pygments_lexer": "ipython3",
   "version": "3.12.7"
  }
 },
 "nbformat": 4,
 "nbformat_minor": 5
}
