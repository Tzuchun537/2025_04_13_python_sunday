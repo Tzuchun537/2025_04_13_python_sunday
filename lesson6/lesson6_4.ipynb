{
 "cells": [
  {
   "cell_type": "markdown",
   "id": "e6f6678a",
   "metadata": {},
   "source": [
    "#求公因數"
   ]
  },
  {
   "cell_type": "code",
   "execution_count": 1,
   "id": "15a22daa",
   "metadata": {},
   "outputs": [
    {
     "name": "stdout",
     "output_type": "stream",
     "text": [
      "請輸入2數,求2數公因數:\n",
      "2 和 44 的公因數是:\n",
      "1\n",
      "2\n"
     ]
    }
   ],
   "source": [
    "\n",
    "print(\"請輸入2數,求2數公因數:\")\n",
    "n = int(input('請輸入第1個數:'))\n",
    "m = int(input('請輸入第2個數:'))\n",
    "if n > m:\n",
    "  num = m\n",
    "else:\n",
    "  num = n\n",
    "\n",
    "#num是2數的最小值\n",
    "print(n,'和',m, '的公因數是:')\n",
    "for i in range(1,num+1):\n",
    "  if n % i == 0 and m % i == 0:\n",
    "    print(i)"
   ]
  }
 ],
 "metadata": {
  "kernelspec": {
   "display_name": "base",
   "language": "python",
   "name": "python3"
  },
  "language_info": {
   "codemirror_mode": {
    "name": "ipython",
    "version": 3
   },
   "file_extension": ".py",
   "mimetype": "text/x-python",
   "name": "python",
   "nbconvert_exporter": "python",
   "pygments_lexer": "ipython3",
   "version": "3.12.7"
  }
 },
 "nbformat": 4,
 "nbformat_minor": 5
}
