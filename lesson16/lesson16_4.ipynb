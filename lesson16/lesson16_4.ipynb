{
 "cells": [
  {
   "cell_type": "markdown",
   "id": "91b7e5f2",
   "metadata": {},
   "source": [
    "### DataFrame欄和列過濾-使用實體方法\n",
    "- reindex()\n",
    "- drop()\n",
    "\n",
    "https://www.perplexity.ai/search/a7f0c830-2dda-452d-aca5-5798da563afb"
   ]
  },
  {
   "cell_type": "code",
   "execution_count": null,
   "id": "eaa24a3d",
   "metadata": {},
   "outputs": [],
   "source": [
    "import numpy as np\n",
    "import pandas as pd\n",
    "from pandas import Series,DataFrame\n",
    "\n",
    "np.random.seed(42)\n",
    "scores = np.random.randint(50, 101,(50,5))\n",
    "df1:DataFrame = pd.DataFrame(scores,\n",
    "             index=[f'學號{i}' for i in range(1,51)],\n",
    "             columns=[\"國文\",\"英文\",\"數學\",\"歷史\",\"生物\"])\n",
    "df1"
   ]
  },
  {
   "cell_type": "code",
   "execution_count": null,
   "id": "7e9d1980",
   "metadata": {},
   "outputs": [],
   "source": [
    "df1.reindex(columns=['國文','英文','數學'],index=['學號1','學號5','學號10'])"
   ]
  },
  {
   "cell_type": "code",
   "execution_count": null,
   "id": "a8887227",
   "metadata": {},
   "outputs": [],
   "source": [
    "df1.drop(columns=['歷史','生物'],index=['學號3','學號5'])"
   ]
  }
 ],
 "metadata": {
  "kernelspec": {
   "display_name": "myenv",
   "language": "python",
   "name": "python3"
  },
  "language_info": {
   "codemirror_mode": {
    "name": "ipython",
    "version": 3
   },
   "file_extension": ".py",
   "mimetype": "text/x-python",
   "name": "python",
   "nbconvert_exporter": "python",
   "pygments_lexer": "ipython3",
   "version": "3.10.16"
  }
 },
 "nbformat": 4,
 "nbformat_minor": 5
}
