{
 "cells": [
  {
   "cell_type": "code",
   "execution_count": null,
   "id": "4351c650",
   "metadata": {},
   "outputs": [],
   "source": [
    "import numpy as np\n",
    "import pandas as pd\n",
    "\n",
    "df = pd.read_csv('上市公司資料.csv')\n",
    "df1 = df.reindex(columns=['資料年月','公司代號','公司名稱','產業別','營業收入-當月營收','營業收入-去年同月增減(%)'])\n",
    "df1"
   ]
  },
  {
   "cell_type": "code",
   "execution_count": null,
   "id": "af1ea5d2",
   "metadata": {},
   "outputs": [],
   "source": [
    "df1[df1['公司名稱']=='幸福']"
   ]
  },
  {
   "cell_type": "code",
   "execution_count": null,
   "id": "98e73b2e",
   "metadata": {},
   "outputs": [],
   "source": [
    "df1[df1['產業別']=='食品工業']"
   ]
  },
  {
   "cell_type": "markdown",
   "id": "ee0440ad",
   "metadata": {},
   "source": [
    "### 查詢DataFrame的基本資料\n",
    "\n",
    "- dataFrame.head()\n",
    "- dataFrame.trail()\n",
    "- dataFrame.info()"
   ]
  },
  {
   "cell_type": "code",
   "execution_count": null,
   "id": "bbdfb6e2",
   "metadata": {},
   "outputs": [],
   "source": [
    "df1.head()\n",
    "df1.tail()\n",
    "df1.info()"
   ]
  },
  {
   "cell_type": "code",
   "execution_count": null,
   "id": "f44f0e0f",
   "metadata": {},
   "outputs": [],
   "source": [
    "mask = df1['營業收入-去年同月增減(%)'] < 0\n",
    "df1[mask]"
   ]
  }
 ],
 "metadata": {
  "kernelspec": {
   "display_name": "sunday",
   "language": "python",
   "name": "python3"
  },
  "language_info": {
   "codemirror_mode": {
    "name": "ipython",
    "version": 3
   },
   "file_extension": ".py",
   "mimetype": "text/x-python",
   "name": "python",
   "nbconvert_exporter": "python",
   "pygments_lexer": "ipython3",
   "version": "3.10.16"
  }
 },
 "nbformat": 4,
 "nbformat_minor": 5
}
