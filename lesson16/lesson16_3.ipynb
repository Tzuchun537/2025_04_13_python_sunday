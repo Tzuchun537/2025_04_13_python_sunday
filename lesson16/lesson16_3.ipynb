{
 "cells": [
  {
   "cell_type": "markdown",
   "id": "6476cc89",
   "metadata": {},
   "source": [
    "### DataFrame使用統計的實體方法\n",
    "https://www.perplexity.ai/search/6902f2e8-2370-4481-94fc-9e93b67e4674"
   ]
  },
  {
   "cell_type": "code",
   "execution_count": null,
   "id": "6b2aed7b",
   "metadata": {},
   "outputs": [],
   "source": [
    "import numpy as np\n",
    "import pandas as pd\n",
    "from pandas import Series,DataFrame\n",
    "\n",
    "np.random.seed(42)\n",
    "scores = np.random.randint(50, 101,(50,5))\n",
    "df1:DataFrame = pd.DataFrame(scores,\n",
    "             index=[f'學號{i}' for i in range(1,51)],\n",
    "             columns=[\"國文\",\"英文\",\"數學\",\"歷史\",\"生物\"])\n",
    "df1"
   ]
  },
  {
   "cell_type": "code",
   "execution_count": null,
   "id": "9939052b",
   "metadata": {},
   "outputs": [],
   "source": [
    "df1_sum = df1.sum(axis=1)\n",
    "df1_mean = df1.mean(axis=1)\n"
   ]
  },
  {
   "cell_type": "code",
   "execution_count": null,
   "id": "dd26e382",
   "metadata": {},
   "outputs": [],
   "source": [
    "df1['總分'] = df1_sum\n",
    "df1['平均'] = df1_mean\n",
    "df1"
   ]
  }
 ],
 "metadata": {
  "kernelspec": {
   "display_name": "myenv",
   "language": "python",
   "name": "python3"
  },
  "language_info": {
   "codemirror_mode": {
    "name": "ipython",
    "version": 3
   },
   "file_extension": ".py",
   "mimetype": "text/x-python",
   "name": "python",
   "nbconvert_exporter": "python",
   "pygments_lexer": "ipython3",
   "version": "3.10.16"
  }
 },
 "nbformat": 4,
 "nbformat_minor": 5
}
