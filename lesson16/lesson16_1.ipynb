{
 "cells": [
  {
   "cell_type": "markdown",
   "id": "50f96616",
   "metadata": {},
   "source": [
    "### DataFrame的操作\n",
    "\n",
    "https://www.perplexity.ai/search/c9eb03d9-5681-4f6c-956d-6764ee19c80a"
   ]
  },
  {
   "cell_type": "code",
   "execution_count": null,
   "id": "dd31b3bf",
   "metadata": {},
   "outputs": [],
   "source": [
    "import numpy as np\n",
    "import pandas as pd\n",
    "from pandas import Series,DataFrame\n",
    "\n",
    "np.random.seed(42)\n",
    "scores = np.random.randint(50, 101,(50,5))\n",
    "df1:DataFrame = pd.DataFrame(scores,\n",
    "             index=[f'學號{i}' for i in range(1,51)],\n",
    "             columns=[\"國文\",\"英文\",\"數學\",\"歷史\",\"生物\"])\n",
    "df1"
   ]
  },
  {
   "cell_type": "code",
   "execution_count": null,
   "id": "2fa241fc",
   "metadata": {},
   "outputs": [],
   "source": [
    "#選取1欄\n",
    "df1['國文']\n",
    "df1['英文']"
   ]
  },
  {
   "cell_type": "code",
   "execution_count": null,
   "id": "14cf980f",
   "metadata": {},
   "outputs": [],
   "source": [
    "#選取多欄\n",
    "#df[list]\n",
    "\n",
    "df1[['國文','英文']]"
   ]
  },
  {
   "cell_type": "markdown",
   "id": "f66047b3",
   "metadata": {},
   "source": [
    "### 列的選取\n",
    "- df.iloc[](是基於整數位置索引)\n",
    "- df.loc[](依標籤選取欄位)"
   ]
  },
  {
   "cell_type": "code",
   "execution_count": null,
   "id": "897e5e82",
   "metadata": {},
   "outputs": [],
   "source": [
    "###loc[]的選取\n",
    "\n",
    "df1.loc['學號1']"
   ]
  },
  {
   "cell_type": "code",
   "execution_count": null,
   "id": "905ec27b",
   "metadata": {},
   "outputs": [],
   "source": [
    "df1.loc[['學號1','學號25']]"
   ]
  },
  {
   "cell_type": "code",
   "execution_count": null,
   "id": "1623846a",
   "metadata": {},
   "outputs": [],
   "source": [
    "#iloc[]的選取\n",
    "df1.iloc[0]"
   ]
  },
  {
   "cell_type": "code",
   "execution_count": null,
   "id": "409b1833",
   "metadata": {},
   "outputs": [],
   "source": [
    "df1.iloc[[0,24]]"
   ]
  },
  {
   "cell_type": "code",
   "execution_count": null,
   "id": "b827e398",
   "metadata": {},
   "outputs": [],
   "source": [
    "df1.iloc[:5]"
   ]
  },
  {
   "cell_type": "code",
   "execution_count": null,
   "id": "5f91c2f1",
   "metadata": {},
   "outputs": [],
   "source": [
    "#iloc[列,欄],先選列,再選欄\n",
    "df1.iloc[:5,[0,1,2]]"
   ]
  },
  {
   "cell_type": "code",
   "execution_count": null,
   "id": "75878d33",
   "metadata": {},
   "outputs": [],
   "source": [
    "#iloc[列,欄],先選列,再選欄\n",
    "df1.iloc[:5,:3]"
   ]
  }
 ],
 "metadata": {
  "kernelspec": {
   "display_name": "myenv",
   "language": "python",
   "name": "python3"
  },
  "language_info": {
   "codemirror_mode": {
    "name": "ipython",
    "version": 3
   },
   "file_extension": ".py",
   "mimetype": "text/x-python",
   "name": "python",
   "nbconvert_exporter": "python",
   "pygments_lexer": "ipython3",
   "version": "3.10.16"
  }
 },
 "nbformat": 4,
 "nbformat_minor": 5
}
