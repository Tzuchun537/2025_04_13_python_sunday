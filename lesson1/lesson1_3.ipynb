{
 "cells": [
  {
   "cell_type": "code",
   "execution_count": 3,
   "id": "e2e0e557",
   "metadata": {},
   "outputs": [
    {
     "name": "stdout",
     "output_type": "stream",
     "text": [
      "這是python的第1節課\n"
     ]
    }
   ],
   "source": [
    "print(\"這是python的第1節課\")"
   ]
  },
  {
   "cell_type": "code",
   "execution_count": 11,
   "id": "39f8f959",
   "metadata": {},
   "outputs": [
    {
     "data": {
      "text/plain": [
       "False"
      ]
     },
     "execution_count": 11,
     "metadata": {},
     "output_type": "execute_result"
    }
   ],
   "source": [
    "10 #代表int\n",
    "10.0 #代表float\n",
    "\"10.0\" #代表str\n",
    "'10.0' #代表str\n",
    "True #代表bool\n",
    "False #代表bool"
   ]
  },
  {
   "cell_type": "markdown",
   "id": "9b1b6164",
   "metadata": {},
   "source": [
    "## 只有數值的類型可以做數學運算"
   ]
  },
  {
   "cell_type": "code",
   "execution_count": 10,
   "id": "eadaaad2",
   "metadata": {},
   "outputs": [
    {
     "data": {
      "text/plain": [
       "'19571.0'"
      ]
     },
     "execution_count": 10,
     "metadata": {},
     "output_type": "execute_result"
    }
   ],
   "source": [
    "19 + 571\n",
    "19.0 + 571.0\n",
    "19 + 571.0 #int + float\n",
    "#\"19\" + 571.0 #字串不可以加上數值\n",
    "\"19\" + \"571.0\""
   ]
  },
  {
   "cell_type": "markdown",
   "id": "20aa3a2a",
   "metadata": {},
   "source": [
    "### 使用print()顯示結果(沒有格式)\n",
    "### 使用display()顯示結果(格式)"
   ]
  },
  {
   "cell_type": "code",
   "execution_count": 9,
   "id": "ff2188e6",
   "metadata": {},
   "outputs": [
    {
     "name": "stdout",
     "output_type": "stream",
     "text": [
      "590\n",
      "590.0\n",
      "590.0\n",
      "19571.0\n"
     ]
    }
   ],
   "source": [
    "print(19 + 571)\n",
    "print(19.0 + 571.0)\n",
    "print(19 + 571.0) #int + float\n",
    "#\"19\" + 571.0 #字串不可以加上數值\n",
    "print(\"19\" + \"571.0\")"
   ]
  },
  {
   "cell_type": "code",
   "execution_count": 8,
   "id": "854a0d5c",
   "metadata": {},
   "outputs": [
    {
     "data": {
      "text/plain": [
       "81"
      ]
     },
     "execution_count": 8,
     "metadata": {},
     "output_type": "execute_result"
    }
   ],
   "source": [
    "5 + 8\n",
    "90 - 10\n",
    "4 * 7\n",
    "7 / 2 #浮點數除法\n",
    "7 // 2 #整數除法\n",
    "7 % 2 #餘數\n",
    "3 ** 4 #次方"
   ]
  },
  {
   "cell_type": "code",
   "execution_count": 7,
   "id": "25ac5c19",
   "metadata": {},
   "outputs": [
    {
     "data": {
      "text/plain": [
       "369729637649726772657187905628805440595668764281741102430259972423552570455277523421410650010128232727940978889548326540119429996769494359451621570193644014418071060667659301384999779999159200499899"
      ]
     },
     "execution_count": 7,
     "metadata": {},
     "output_type": "execute_result"
    }
   ],
   "source": [
    "99 ** 99"
   ]
  },
  {
   "cell_type": "markdown",
   "id": "64e7969d",
   "metadata": {},
   "source": [
    "### 一個運算子做1個動作\n",
    "### 數學運算子有優先順序"
   ]
  },
  {
   "cell_type": "code",
   "execution_count": 6,
   "id": "419ddae4",
   "metadata": {},
   "outputs": [
    {
     "name": "stdout",
     "output_type": "stream",
     "text": [
      "14\n",
      "20\n",
      "10\n"
     ]
    }
   ],
   "source": [
    "print(2 + 3 * 4)\n",
    "print((2 + 3) * 4)\n",
    "print(2 * (1 + 2) ** 2 - 2 ** 2 * 2)"
   ]
  },
  {
   "cell_type": "markdown",
   "id": "0eeb926e",
   "metadata": {},
   "source": [
    "## 內建的function(函式)\n",
    "## print()如何使用\n",
    "### print(*objects, sep=' ', end='\\n', file=None,### flush=False)\n",
    "### *objects -> 沒有限定數量的引數值呼叫"
   ]
  },
  {
   "cell_type": "code",
   "execution_count": 5,
   "id": "2fc05d10",
   "metadata": {},
   "outputs": [
    {
     "name": "stdout",
     "output_type": "stream",
     "text": [
      "15 27.0 Hello True 81\n"
     ]
    }
   ],
   "source": [
    "print(15,27.0,'Hello',True,3 ** 4)"
   ]
  },
  {
   "cell_type": "markdown",
   "id": "5df511f1",
   "metadata": {},
   "source": [
    "### round(number, ndigits=None)"
   ]
  },
  {
   "cell_type": "code",
   "execution_count": 4,
   "id": "fde35d61",
   "metadata": {},
   "outputs": [
    {
     "name": "stdout",
     "output_type": "stream",
     "text": [
      "57\n",
      "56.6\n",
      "56.59\n"
     ]
    }
   ],
   "source": [
    "print(round(56.589))\n",
    "print(round(56.589,ndigits=1))\n",
    "print(round(56.589,ndigits=2))"
   ]
  }
 ],
 "metadata": {
  "kernelspec": {
   "display_name": "base",
   "language": "python",
   "name": "python3"
  },
  "language_info": {
   "codemirror_mode": {
    "name": "ipython",
    "version": 3
   },
   "file_extension": ".py",
   "mimetype": "text/x-python",
   "name": "python",
   "nbconvert_exporter": "python",
   "pygments_lexer": "ipython3",
   "version": "3.12.7"
  }
 },
 "nbformat": 4,
 "nbformat_minor": 5
}
