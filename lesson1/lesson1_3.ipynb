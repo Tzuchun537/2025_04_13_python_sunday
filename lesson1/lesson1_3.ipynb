{
 "cells": [
  {
   "cell_type": "code",
   "execution_count": null,
   "id": "e2e0e557",
   "metadata": {},
   "outputs": [],
   "source": [
    "print(\"這是python的第1節課\")"
   ]
  },
  {
   "cell_type": "code",
   "execution_count": null,
   "id": "39f8f959",
   "metadata": {},
   "outputs": [],
   "source": [
    "10 #代表int\n",
    "10.0 #代表float\n",
    "\"10.0\" #代表str\n",
    "'10.0' #代表str\n",
    "True #代表bool\n",
    "False #代表bool"
   ]
  },
  {
   "cell_type": "markdown",
   "id": "9b1b6164",
   "metadata": {},
   "source": [
    "## 只有數值的類型可以做數學運算"
   ]
  },
  {
   "cell_type": "code",
   "execution_count": null,
   "id": "eadaaad2",
   "metadata": {},
   "outputs": [],
   "source": []
  }
 ],
 "metadata": {
  "kernelspec": {
   "display_name": "base",
   "language": "python",
   "name": "python3"
  },
  "language_info": {
   "codemirror_mode": {
    "name": "ipython",
    "version": 3
   },
   "file_extension": ".py",
   "mimetype": "text/x-python",
   "name": "python",
   "nbconvert_exporter": "python",
   "pygments_lexer": "ipython3",
   "version": "3.12.7"
  }
 },
 "nbformat": 4,
 "nbformat_minor": 5
}
